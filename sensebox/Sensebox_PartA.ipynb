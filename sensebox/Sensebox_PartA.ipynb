{
 "cells": [
  {
   "cell_type": "markdown",
   "id": "e4f58b81-b67c-4c11-b274-c63d72f177cf",
   "metadata": {},
   "source": [
    "## SenseBox data analysis exercise\n",
    "Summer 2022\n",
    "\n",
    "### Index\n",
    "\n",
    "[1. Objective](#21)<br>\n",
    "[2. Methodology](#22)<br>\n",
    "&emsp;[2.1 API Request](#221)<br>\n",
    "&emsp;[2.2 SQL query questions](#222SQL)<br>\n",
    "&emsp;[2.3 Data Analysis](#223data)<br>\n",
    "[3. Conclusions](#23)<br>\n",
    "\n",
    "\n",
    "### <a id=\"21\">1. Objective</a>\n",
    "\n",
    "- _The goal of the exercise is to first obtain data from APIs with `requests`, organise and store it in a `SQLite` database, and then examine and present the topic through computations and visualisations._\n",
    "- Collect data from sensebox devices and review which information is available, how is the structure of this information and how can it be use in real life scenarios.\n",
    "\n"
   ]
  },
  {
   "cell_type": "markdown",
   "id": "51bc59ae",
   "metadata": {},
   "source": [
    "\n",
    "### <a id=\"22\">2. Methodology</a>\n",
    "#### <a id=\"221\">2.1 API Request</a>\n",
    "\n",
    "_Read through this [list](https://github.com/public-apis/public-apis) of APIs mentioned in the lecture and choose any of the API(s) which you are particularly interested in (if you find a relevant API not contained in this list, that is of course also fine). Make sure that the API(s) you choose contain sufficient data for an analysis later on. Obtain the relevant data from your chosen API(s) __through Python__ with `requests` rather than pre-built libraries. Then process the data with the typical `pandas` functionalities etc._"
   ]
  },
  {
   "cell_type": "markdown",
   "id": "5ba451dc",
   "metadata": {},
   "source": [
    "### Sensebox API\n",
    "\n",
    "Sensebox are a set of technological tools to monitor outdoor areas. By combining different types of sensors, data related to humidity, temperature, sunlight and others can be extracted. The project started at the University of Münster at the Institute for Geoinformatics, and evolved to an organization interested in enviromental protection and STEAM education supported by the German goverment [1]. It currently has more than 10.000 senseBoxes around the world as displayed in Figure 2.1, reporting data from different locations to a main server. Users acquire the sensors they are interested in, implement the code and start reporting. Figure 2.2 display a Sensebox Kit.\n",
    "\n",
    "\n",
    "![Senseboxmap](images/senseboxmap.png)\n",
    "_Figure 2.1. World Map with senseBox kits installed_\n",
    "\n",
    "![Sensebox](images/sensebox.png)\n",
    "\n",
    "_Figure 2.2. senseBox Kit_"
   ]
  },
  {
   "cell_type": "markdown",
   "id": "3f134790",
   "metadata": {},
   "source": [
    "The documentation for the openSenseMap is detailed in their [website](). We are interested on collecting data from the available sensors in the NRW area for phenomenon such as temperature, humidity and UV intensity. The API limits the request to 10000 measurements per device for an specific timeframe. The API data is open to anyone to be downloaded, thus we are not required to configure authentication keys."
   ]
  },
  {
   "cell_type": "code",
   "execution_count": 5,
   "id": "9b6ae7e0-07bd-4ac4-8111-2e11a1f54ec8",
   "metadata": {},
   "outputs": [],
   "source": [
    "import requests\n",
    "import pandas as pd\n",
    "import numpy as np\n"
   ]
  },
  {
   "cell_type": "code",
   "execution_count": 6,
   "id": "f28bdb59",
   "metadata": {},
   "outputs": [],
   "source": [
    "params = {\"date\": \"2022-06-01T00:00:00.00Z\", \"phenomenon\":\"temperature\"}\n",
    "r = requests.get(\"https://api.opensensemap.org/boxes/\",\n",
    "                        params=params)"
   ]
  },
  {
   "cell_type": "code",
   "execution_count": 7,
   "id": "9a534db3",
   "metadata": {},
   "outputs": [],
   "source": [
    "data_sensebox = r.json()"
   ]
  },
  {
   "cell_type": "code",
   "execution_count": 8,
   "id": "23e0aa89",
   "metadata": {},
   "outputs": [
    {
     "data": {
      "text/html": [
       "<div>\n",
       "<style scoped>\n",
       "    .dataframe tbody tr th:only-of-type {\n",
       "        vertical-align: middle;\n",
       "    }\n",
       "\n",
       "    .dataframe tbody tr th {\n",
       "        vertical-align: top;\n",
       "    }\n",
       "\n",
       "    .dataframe thead th {\n",
       "        text-align: right;\n",
       "    }\n",
       "</style>\n",
       "<table border=\"1\" class=\"dataframe\">\n",
       "  <thead>\n",
       "    <tr style=\"text-align: right;\">\n",
       "      <th></th>\n",
       "      <th>_id</th>\n",
       "      <th>createdAt</th>\n",
       "      <th>updatedAt</th>\n",
       "      <th>name</th>\n",
       "      <th>grouptag</th>\n",
       "      <th>exposure</th>\n",
       "      <th>sensors</th>\n",
       "      <th>model</th>\n",
       "      <th>currentLocation</th>\n",
       "      <th>lastMeasurementAt</th>\n",
       "      <th>loc</th>\n",
       "      <th>description</th>\n",
       "      <th>image</th>\n",
       "      <th>weblink</th>\n",
       "    </tr>\n",
       "  </thead>\n",
       "  <tbody>\n",
       "    <tr>\n",
       "      <th>0</th>\n",
       "      <td>59721243fe1c7400113446fc</td>\n",
       "      <td>2022-03-30T11:25:43.328Z</td>\n",
       "      <td>2025-01-13T18:14:32.268Z</td>\n",
       "      <td>M_Office_1</td>\n",
       "      <td>[Sofia]</td>\n",
       "      <td>indoor</td>\n",
       "      <td>[{'title': 'PM10', 'unit': 'µg/m³', 'sensorTyp...</td>\n",
       "      <td>luftdaten_sds011_bme280</td>\n",
       "      <td>{'type': 'Point', 'coordinates': [23.405557, 4...</td>\n",
       "      <td>2025-01-13T18:14:32.264Z</td>\n",
       "      <td>[{'geometry': {'type': 'Point', 'coordinates':...</td>\n",
       "      <td>NaN</td>\n",
       "      <td>NaN</td>\n",
       "      <td>NaN</td>\n",
       "    </tr>\n",
       "    <tr>\n",
       "      <th>1</th>\n",
       "      <td>5aa71abe396417001bdfe04a</td>\n",
       "      <td>2022-03-30T11:25:43.506Z</td>\n",
       "      <td>2025-01-11T06:26:40.394Z</td>\n",
       "      <td>2xBME280</td>\n",
       "      <td>[]</td>\n",
       "      <td>indoor</td>\n",
       "      <td>[{'_id': '5acf38d3223bd80019665ffa', 'title': ...</td>\n",
       "      <td>luftdaten_sds011_bme280</td>\n",
       "      <td>{'type': 'Point', 'coordinates': [23.359771, 4...</td>\n",
       "      <td>2025-01-11T06:26:40.384Z</td>\n",
       "      <td>[{'geometry': {'type': 'Point', 'coordinates':...</td>\n",
       "      <td>Internal and external BME280 sensors</td>\n",
       "      <td>NaN</td>\n",
       "      <td>NaN</td>\n",
       "    </tr>\n",
       "    <tr>\n",
       "      <th>2</th>\n",
       "      <td>5cfe042fa1ba9f001afb0480</td>\n",
       "      <td>2022-03-30T11:25:43.734Z</td>\n",
       "      <td>2024-04-07T18:52:26.653Z</td>\n",
       "      <td>ph1m_dust</td>\n",
       "      <td>[]</td>\n",
       "      <td>outdoor</td>\n",
       "      <td>[{'title': 'PM10', 'unit': 'µg/m³', 'sensorTyp...</td>\n",
       "      <td>luftdaten_sds011_dht22</td>\n",
       "      <td>{'timestamp': '2019-06-10T07:18:07.267Z', 'coo...</td>\n",
       "      <td>2024-04-07T18:52:26.648Z</td>\n",
       "      <td>[{'geometry': {'timestamp': '2019-06-10T07:18:...</td>\n",
       "      <td>NaN</td>\n",
       "      <td>5cfe042fa1ba9f001afb0480_pswglm.jpg</td>\n",
       "      <td>http://ph1m.nl</td>\n",
       "    </tr>\n",
       "    <tr>\n",
       "      <th>3</th>\n",
       "      <td>5d754c46953683001a37a1ce</td>\n",
       "      <td>2022-03-30T11:25:43.763Z</td>\n",
       "      <td>2025-01-13T18:07:48.883Z</td>\n",
       "      <td>B13</td>\n",
       "      <td>[]</td>\n",
       "      <td>outdoor</td>\n",
       "      <td>[{'title': 'PM10', 'unit': 'µg/m³', 'sensorTyp...</td>\n",
       "      <td>luftdaten_sds011_bme280</td>\n",
       "      <td>{'timestamp': '2019-09-08T18:45:26.684Z', 'coo...</td>\n",
       "      <td>2025-01-13T18:07:48.874Z</td>\n",
       "      <td>[{'geometry': {'timestamp': '2019-09-08T18:45:...</td>\n",
       "      <td>NaN</td>\n",
       "      <td>NaN</td>\n",
       "      <td>NaN</td>\n",
       "    </tr>\n",
       "    <tr>\n",
       "      <th>4</th>\n",
       "      <td>5f599d98e26476001c3e821e</td>\n",
       "      <td>2022-03-30T11:25:43.888Z</td>\n",
       "      <td>2022-10-13T17:44:14.425Z</td>\n",
       "      <td>PDX_GrantPark</td>\n",
       "      <td>[luftdaten.info]</td>\n",
       "      <td>outdoor</td>\n",
       "      <td>[{'title': 'PM10', 'unit': 'µg/m³', 'sensorTyp...</td>\n",
       "      <td>luftdaten_sds011_dht22</td>\n",
       "      <td>{'timestamp': '2020-09-10T03:29:28.238Z', 'coo...</td>\n",
       "      <td>2022-10-13T17:44:14.421Z</td>\n",
       "      <td>[{'geometry': {'timestamp': '2020-09-10T03:29:...</td>\n",
       "      <td>NaN</td>\n",
       "      <td>NaN</td>\n",
       "      <td>NaN</td>\n",
       "    </tr>\n",
       "  </tbody>\n",
       "</table>\n",
       "</div>"
      ],
      "text/plain": [
       "                        _id                 createdAt  \\\n",
       "0  59721243fe1c7400113446fc  2022-03-30T11:25:43.328Z   \n",
       "1  5aa71abe396417001bdfe04a  2022-03-30T11:25:43.506Z   \n",
       "2  5cfe042fa1ba9f001afb0480  2022-03-30T11:25:43.734Z   \n",
       "3  5d754c46953683001a37a1ce  2022-03-30T11:25:43.763Z   \n",
       "4  5f599d98e26476001c3e821e  2022-03-30T11:25:43.888Z   \n",
       "\n",
       "                  updatedAt           name          grouptag exposure  \\\n",
       "0  2025-01-13T18:14:32.268Z     M_Office_1           [Sofia]   indoor   \n",
       "1  2025-01-11T06:26:40.394Z       2xBME280                []   indoor   \n",
       "2  2024-04-07T18:52:26.653Z      ph1m_dust                []  outdoor   \n",
       "3  2025-01-13T18:07:48.883Z            B13                []  outdoor   \n",
       "4  2022-10-13T17:44:14.425Z  PDX_GrantPark  [luftdaten.info]  outdoor   \n",
       "\n",
       "                                             sensors                    model  \\\n",
       "0  [{'title': 'PM10', 'unit': 'µg/m³', 'sensorTyp...  luftdaten_sds011_bme280   \n",
       "1  [{'_id': '5acf38d3223bd80019665ffa', 'title': ...  luftdaten_sds011_bme280   \n",
       "2  [{'title': 'PM10', 'unit': 'µg/m³', 'sensorTyp...   luftdaten_sds011_dht22   \n",
       "3  [{'title': 'PM10', 'unit': 'µg/m³', 'sensorTyp...  luftdaten_sds011_bme280   \n",
       "4  [{'title': 'PM10', 'unit': 'µg/m³', 'sensorTyp...   luftdaten_sds011_dht22   \n",
       "\n",
       "                                     currentLocation  \\\n",
       "0  {'type': 'Point', 'coordinates': [23.405557, 4...   \n",
       "1  {'type': 'Point', 'coordinates': [23.359771, 4...   \n",
       "2  {'timestamp': '2019-06-10T07:18:07.267Z', 'coo...   \n",
       "3  {'timestamp': '2019-09-08T18:45:26.684Z', 'coo...   \n",
       "4  {'timestamp': '2020-09-10T03:29:28.238Z', 'coo...   \n",
       "\n",
       "          lastMeasurementAt  \\\n",
       "0  2025-01-13T18:14:32.264Z   \n",
       "1  2025-01-11T06:26:40.384Z   \n",
       "2  2024-04-07T18:52:26.648Z   \n",
       "3  2025-01-13T18:07:48.874Z   \n",
       "4  2022-10-13T17:44:14.421Z   \n",
       "\n",
       "                                                 loc  \\\n",
       "0  [{'geometry': {'type': 'Point', 'coordinates':...   \n",
       "1  [{'geometry': {'type': 'Point', 'coordinates':...   \n",
       "2  [{'geometry': {'timestamp': '2019-06-10T07:18:...   \n",
       "3  [{'geometry': {'timestamp': '2019-09-08T18:45:...   \n",
       "4  [{'geometry': {'timestamp': '2020-09-10T03:29:...   \n",
       "\n",
       "                            description                                image  \\\n",
       "0                                   NaN                                  NaN   \n",
       "1  Internal and external BME280 sensors                                  NaN   \n",
       "2                                   NaN  5cfe042fa1ba9f001afb0480_pswglm.jpg   \n",
       "3                                   NaN                                  NaN   \n",
       "4                                   NaN                                  NaN   \n",
       "\n",
       "          weblink  \n",
       "0             NaN  \n",
       "1             NaN  \n",
       "2  http://ph1m.nl  \n",
       "3             NaN  \n",
       "4             NaN  "
      ]
     },
     "execution_count": 8,
     "metadata": {},
     "output_type": "execute_result"
    }
   ],
   "source": [
    "# Transform JSON request to Dataframes\n",
    "df_sensebox=pd.DataFrame(data_sensebox)\n",
    "df_sensebox.head()"
   ]
  },
  {
   "cell_type": "code",
   "execution_count": 9,
   "id": "08c3c34f",
   "metadata": {},
   "outputs": [
    {
     "data": {
      "text/plain": [
       "(13, 14)"
      ]
     },
     "execution_count": 9,
     "metadata": {},
     "output_type": "execute_result"
    }
   ],
   "source": [
    "df_sensebox.shape"
   ]
  },
  {
   "cell_type": "markdown",
   "id": "bbb20a85",
   "metadata": {},
   "source": [
    "We drop the columns that are not necessary for our analysis and/or are redundant in other data columns."
   ]
  },
  {
   "cell_type": "code",
   "execution_count": 10,
   "id": "8d975e40",
   "metadata": {},
   "outputs": [
    {
     "data": {
      "text/plain": [
       "Index(['_id', 'createdAt', 'updatedAt', 'name', 'grouptag', 'exposure',\n",
       "       'sensors', 'model', 'currentLocation', 'lastMeasurementAt', 'loc',\n",
       "       'description', 'image', 'weblink'],\n",
       "      dtype='object')"
      ]
     },
     "execution_count": 10,
     "metadata": {},
     "output_type": "execute_result"
    }
   ],
   "source": [
    "df_sensebox.columns"
   ]
  },
  {
   "cell_type": "code",
   "execution_count": 11,
   "id": "f4a25059",
   "metadata": {},
   "outputs": [],
   "source": [
    "# organized dataframe\n",
    "df_sensebox.drop(columns=['grouptag', 'image','weblink','description'], axis=1, inplace=True)\n",
    "df_sensebox.rename(columns={'_id':'id_sensebox'}, inplace=True)"
   ]
  },
  {
   "cell_type": "markdown",
   "id": "d6818144",
   "metadata": {},
   "source": [
    "In the dataframe, we can identify columns with information that will be better analysed with their own table such as the column _sensor_. The column _currentLocation_ will also be better suited to have separated columns in the main dataframe. For extracting the coordinates values, we extract the key from the dictionary in the column with some list comprehension."
   ]
  },
  {
   "cell_type": "code",
   "execution_count": 12,
   "id": "b6828118",
   "metadata": {},
   "outputs": [
    {
     "data": {
      "text/html": [
       "<div>\n",
       "<style scoped>\n",
       "    .dataframe tbody tr th:only-of-type {\n",
       "        vertical-align: middle;\n",
       "    }\n",
       "\n",
       "    .dataframe tbody tr th {\n",
       "        vertical-align: top;\n",
       "    }\n",
       "\n",
       "    .dataframe thead th {\n",
       "        text-align: right;\n",
       "    }\n",
       "</style>\n",
       "<table border=\"1\" class=\"dataframe\">\n",
       "  <thead>\n",
       "    <tr style=\"text-align: right;\">\n",
       "      <th></th>\n",
       "      <th>id_sensebox</th>\n",
       "      <th>createdAt</th>\n",
       "      <th>updatedAt</th>\n",
       "      <th>name</th>\n",
       "      <th>exposure</th>\n",
       "      <th>sensors</th>\n",
       "      <th>model</th>\n",
       "      <th>currentLocation</th>\n",
       "      <th>lastMeasurementAt</th>\n",
       "      <th>loc</th>\n",
       "      <th>longitud</th>\n",
       "      <th>latitud</th>\n",
       "      <th>coordinates</th>\n",
       "    </tr>\n",
       "  </thead>\n",
       "  <tbody>\n",
       "    <tr>\n",
       "      <th>0</th>\n",
       "      <td>59721243fe1c7400113446fc</td>\n",
       "      <td>2022-03-30T11:25:43.328Z</td>\n",
       "      <td>2025-01-13T18:14:32.268Z</td>\n",
       "      <td>M_Office_1</td>\n",
       "      <td>indoor</td>\n",
       "      <td>[{'title': 'PM10', 'unit': 'µg/m³', 'sensorTyp...</td>\n",
       "      <td>luftdaten_sds011_bme280</td>\n",
       "      <td>{'type': 'Point', 'coordinates': [23.405557, 4...</td>\n",
       "      <td>2025-01-13T18:14:32.264Z</td>\n",
       "      <td>[{'geometry': {'type': 'Point', 'coordinates':...</td>\n",
       "      <td>23.405557</td>\n",
       "      <td>42.636516</td>\n",
       "      <td>[23.405557, 42.636516]</td>\n",
       "    </tr>\n",
       "    <tr>\n",
       "      <th>1</th>\n",
       "      <td>5aa71abe396417001bdfe04a</td>\n",
       "      <td>2022-03-30T11:25:43.506Z</td>\n",
       "      <td>2025-01-11T06:26:40.394Z</td>\n",
       "      <td>2xBME280</td>\n",
       "      <td>indoor</td>\n",
       "      <td>[{'_id': '5acf38d3223bd80019665ffa', 'title': ...</td>\n",
       "      <td>luftdaten_sds011_bme280</td>\n",
       "      <td>{'type': 'Point', 'coordinates': [23.359771, 4...</td>\n",
       "      <td>2025-01-11T06:26:40.384Z</td>\n",
       "      <td>[{'geometry': {'type': 'Point', 'coordinates':...</td>\n",
       "      <td>23.359771</td>\n",
       "      <td>42.700230</td>\n",
       "      <td>[23.359771, 42.70023]</td>\n",
       "    </tr>\n",
       "    <tr>\n",
       "      <th>2</th>\n",
       "      <td>5cfe042fa1ba9f001afb0480</td>\n",
       "      <td>2022-03-30T11:25:43.734Z</td>\n",
       "      <td>2024-04-07T18:52:26.653Z</td>\n",
       "      <td>ph1m_dust</td>\n",
       "      <td>outdoor</td>\n",
       "      <td>[{'title': 'PM10', 'unit': 'µg/m³', 'sensorTyp...</td>\n",
       "      <td>luftdaten_sds011_dht22</td>\n",
       "      <td>{'timestamp': '2019-06-10T07:18:07.267Z', 'coo...</td>\n",
       "      <td>2024-04-07T18:52:26.648Z</td>\n",
       "      <td>[{'geometry': {'timestamp': '2019-06-10T07:18:...</td>\n",
       "      <td>4.510325</td>\n",
       "      <td>52.222357</td>\n",
       "      <td>[4.510325, 52.222357, 1]</td>\n",
       "    </tr>\n",
       "    <tr>\n",
       "      <th>3</th>\n",
       "      <td>5d754c46953683001a37a1ce</td>\n",
       "      <td>2022-03-30T11:25:43.763Z</td>\n",
       "      <td>2025-01-13T18:07:48.883Z</td>\n",
       "      <td>B13</td>\n",
       "      <td>outdoor</td>\n",
       "      <td>[{'title': 'PM10', 'unit': 'µg/m³', 'sensorTyp...</td>\n",
       "      <td>luftdaten_sds011_bme280</td>\n",
       "      <td>{'timestamp': '2019-09-08T18:45:26.684Z', 'coo...</td>\n",
       "      <td>2025-01-13T18:07:48.874Z</td>\n",
       "      <td>[{'geometry': {'timestamp': '2019-09-08T18:45:...</td>\n",
       "      <td>8.822279</td>\n",
       "      <td>53.076957</td>\n",
       "      <td>[8.822279, 53.076957]</td>\n",
       "    </tr>\n",
       "    <tr>\n",
       "      <th>4</th>\n",
       "      <td>5f599d98e26476001c3e821e</td>\n",
       "      <td>2022-03-30T11:25:43.888Z</td>\n",
       "      <td>2022-10-13T17:44:14.425Z</td>\n",
       "      <td>PDX_GrantPark</td>\n",
       "      <td>outdoor</td>\n",
       "      <td>[{'title': 'PM10', 'unit': 'µg/m³', 'sensorTyp...</td>\n",
       "      <td>luftdaten_sds011_dht22</td>\n",
       "      <td>{'timestamp': '2020-09-10T03:29:28.238Z', 'coo...</td>\n",
       "      <td>2022-10-13T17:44:14.421Z</td>\n",
       "      <td>[{'geometry': {'timestamp': '2020-09-10T03:29:...</td>\n",
       "      <td>-122.631289</td>\n",
       "      <td>45.539658</td>\n",
       "      <td>[-122.631289, 45.539658, -4.5]</td>\n",
       "    </tr>\n",
       "    <tr>\n",
       "      <th>5</th>\n",
       "      <td>5f63b16f5189f4001bf880d8</td>\n",
       "      <td>2022-03-30T11:25:43.890Z</td>\n",
       "      <td>2022-07-26T13:18:20.849Z</td>\n",
       "      <td>Malya_1</td>\n",
       "      <td>outdoor</td>\n",
       "      <td>[{'icon': 'osem-cloud', 'title': 'PM2.5', 'uni...</td>\n",
       "      <td>custom</td>\n",
       "      <td>{'timestamp': '2020-09-17T18:56:47.001Z', 'coo...</td>\n",
       "      <td>2022-07-26T13:18:20.845Z</td>\n",
       "      <td>[{'geometry': {'timestamp': '2020-09-17T18:56:...</td>\n",
       "      <td>30.623199</td>\n",
       "      <td>50.461063</td>\n",
       "      <td>[30.623199, 50.461063, 137]</td>\n",
       "    </tr>\n",
       "    <tr>\n",
       "      <th>6</th>\n",
       "      <td>5fe1f274c31ca0001c930586</td>\n",
       "      <td>2020-12-22T13:19:48.278Z</td>\n",
       "      <td>2025-01-13T18:16:13.854Z</td>\n",
       "      <td>FijnstofHelden</td>\n",
       "      <td>outdoor</td>\n",
       "      <td>[{'icon': 'osem-thermometer', 'title': 'temper...</td>\n",
       "      <td>custom</td>\n",
       "      <td>{'timestamp': '2020-12-22T13:19:48.273Z', 'coo...</td>\n",
       "      <td>2025-01-13T18:16:13.791Z</td>\n",
       "      <td>[{'geometry': {'timestamp': '2020-12-22T13:19:...</td>\n",
       "      <td>5.988284</td>\n",
       "      <td>51.317900</td>\n",
       "      <td>[5.988284, 51.3179, 34]</td>\n",
       "    </tr>\n",
       "    <tr>\n",
       "      <th>7</th>\n",
       "      <td>6079b79916aef4001b9fb977</td>\n",
       "      <td>2022-03-30T11:25:43.933Z</td>\n",
       "      <td>2023-09-22T12:30:25.352Z</td>\n",
       "      <td>TUDo_CNI_SCS_5</td>\n",
       "      <td>outdoor</td>\n",
       "      <td>[{'title': 'temperature', 'sensorType': 'DS18B...</td>\n",
       "      <td>custom</td>\n",
       "      <td>{'type': 'Point', 'coordinates': [7.441287, 51...</td>\n",
       "      <td>2023-09-22T12:30:25.344Z</td>\n",
       "      <td>[{'geometry': {'type': 'Point', 'coordinates':...</td>\n",
       "      <td>7.441287</td>\n",
       "      <td>51.500407</td>\n",
       "      <td>[7.441287, 51.500407]</td>\n",
       "    </tr>\n",
       "    <tr>\n",
       "      <th>8</th>\n",
       "      <td>61a1dfebd85cc7001b4d04e3</td>\n",
       "      <td>2022-03-30T11:25:43.960Z</td>\n",
       "      <td>2025-01-13T18:09:41.699Z</td>\n",
       "      <td>ELSYS_EMS_PERRET_NEE</td>\n",
       "      <td>outdoor</td>\n",
       "      <td>[{'icon': 'osem-temperature-celsius', 'title':...</td>\n",
       "      <td>custom</td>\n",
       "      <td>{'timestamp': '2021-11-27T07:36:11.783Z', 'coo...</td>\n",
       "      <td>2025-01-13T18:09:41.695Z</td>\n",
       "      <td>[{'geometry': {'timestamp': '2021-11-27T07:36:...</td>\n",
       "      <td>5.735416</td>\n",
       "      <td>45.184907</td>\n",
       "      <td>[5.735416, 45.184907, 300]</td>\n",
       "    </tr>\n",
       "    <tr>\n",
       "      <th>9</th>\n",
       "      <td>61a223c64a7833001b3fcf09</td>\n",
       "      <td>2022-03-30T11:25:43.960Z</td>\n",
       "      <td>2022-12-13T03:57:14.925Z</td>\n",
       "      <td>MCF88_LW12TERPM_SMH</td>\n",
       "      <td>outdoor</td>\n",
       "      <td>[{'icon': 'osem-thermometer', 'title': 'temper...</td>\n",
       "      <td>custom</td>\n",
       "      <td>{'type': 'Point', 'coordinates': [5.753862, 45...</td>\n",
       "      <td>2022-12-13T03:57:14.919Z</td>\n",
       "      <td>[{'geometry': {'type': 'Point', 'coordinates':...</td>\n",
       "      <td>5.753862</td>\n",
       "      <td>45.184780</td>\n",
       "      <td>[5.753862, 45.18478, 240]</td>\n",
       "    </tr>\n",
       "    <tr>\n",
       "      <th>10</th>\n",
       "      <td>61a49c884a7833001b5eda03</td>\n",
       "      <td>2022-03-30T11:25:43.960Z</td>\n",
       "      <td>2023-07-12T16:59:46.990Z</td>\n",
       "      <td>EMS_ELSYS_MACI</td>\n",
       "      <td>outdoor</td>\n",
       "      <td>[{'icon': 'osem-temperature-celsius', 'title':...</td>\n",
       "      <td>custom</td>\n",
       "      <td>{'timestamp': '2021-11-29T09:25:28.622Z', 'coo...</td>\n",
       "      <td>2023-07-12T16:59:46.981Z</td>\n",
       "      <td>[{'geometry': {'timestamp': '2021-11-29T09:25:...</td>\n",
       "      <td>5.763326</td>\n",
       "      <td>45.191897</td>\n",
       "      <td>[5.763326, 45.191897]</td>\n",
       "    </tr>\n",
       "    <tr>\n",
       "      <th>11</th>\n",
       "      <td>6210df22e00700001bb05e51</td>\n",
       "      <td>2022-02-19T12:14:26.853Z</td>\n",
       "      <td>2022-06-17T12:25:24.228Z</td>\n",
       "      <td>Caputh1</td>\n",
       "      <td>outdoor</td>\n",
       "      <td>[{'title': 'PM10', 'unit': 'µg/m³', 'sensorTyp...</td>\n",
       "      <td>luftdaten_sds011_dht11</td>\n",
       "      <td>{'timestamp': '2022-02-19T12:14:26.849Z', 'coo...</td>\n",
       "      <td>2022-06-17T12:25:24.222Z</td>\n",
       "      <td>[{'geometry': {'timestamp': '2022-02-19T12:14:...</td>\n",
       "      <td>12.984025</td>\n",
       "      <td>52.334908</td>\n",
       "      <td>[12.984025, 52.334908, 42]</td>\n",
       "    </tr>\n",
       "    <tr>\n",
       "      <th>12</th>\n",
       "      <td>6251b7ead7e732001b3a3315</td>\n",
       "      <td>2022-04-09T16:44:26.298Z</td>\n",
       "      <td>2025-01-11T06:30:56.679Z</td>\n",
       "      <td>andutan's wonder weather station</td>\n",
       "      <td>outdoor</td>\n",
       "      <td>[{'icon': 'osem-thermometer', 'title': 'temper...</td>\n",
       "      <td>custom</td>\n",
       "      <td>{'timestamp': '2022-04-09T16:44:26.294Z', 'coo...</td>\n",
       "      <td>2025-01-11T06:30:56.091Z</td>\n",
       "      <td>[{'geometry': {'timestamp': '2022-04-09T16:44:...</td>\n",
       "      <td>8.253330</td>\n",
       "      <td>50.003549</td>\n",
       "      <td>[8.25333, 50.003549, 12]</td>\n",
       "    </tr>\n",
       "  </tbody>\n",
       "</table>\n",
       "</div>"
      ],
      "text/plain": [
       "                 id_sensebox                 createdAt  \\\n",
       "0   59721243fe1c7400113446fc  2022-03-30T11:25:43.328Z   \n",
       "1   5aa71abe396417001bdfe04a  2022-03-30T11:25:43.506Z   \n",
       "2   5cfe042fa1ba9f001afb0480  2022-03-30T11:25:43.734Z   \n",
       "3   5d754c46953683001a37a1ce  2022-03-30T11:25:43.763Z   \n",
       "4   5f599d98e26476001c3e821e  2022-03-30T11:25:43.888Z   \n",
       "5   5f63b16f5189f4001bf880d8  2022-03-30T11:25:43.890Z   \n",
       "6   5fe1f274c31ca0001c930586  2020-12-22T13:19:48.278Z   \n",
       "7   6079b79916aef4001b9fb977  2022-03-30T11:25:43.933Z   \n",
       "8   61a1dfebd85cc7001b4d04e3  2022-03-30T11:25:43.960Z   \n",
       "9   61a223c64a7833001b3fcf09  2022-03-30T11:25:43.960Z   \n",
       "10  61a49c884a7833001b5eda03  2022-03-30T11:25:43.960Z   \n",
       "11  6210df22e00700001bb05e51  2022-02-19T12:14:26.853Z   \n",
       "12  6251b7ead7e732001b3a3315  2022-04-09T16:44:26.298Z   \n",
       "\n",
       "                   updatedAt                              name exposure  \\\n",
       "0   2025-01-13T18:14:32.268Z                        M_Office_1   indoor   \n",
       "1   2025-01-11T06:26:40.394Z                          2xBME280   indoor   \n",
       "2   2024-04-07T18:52:26.653Z                         ph1m_dust  outdoor   \n",
       "3   2025-01-13T18:07:48.883Z                               B13  outdoor   \n",
       "4   2022-10-13T17:44:14.425Z                     PDX_GrantPark  outdoor   \n",
       "5   2022-07-26T13:18:20.849Z                           Malya_1  outdoor   \n",
       "6   2025-01-13T18:16:13.854Z                    FijnstofHelden  outdoor   \n",
       "7   2023-09-22T12:30:25.352Z                    TUDo_CNI_SCS_5  outdoor   \n",
       "8   2025-01-13T18:09:41.699Z              ELSYS_EMS_PERRET_NEE  outdoor   \n",
       "9   2022-12-13T03:57:14.925Z               MCF88_LW12TERPM_SMH  outdoor   \n",
       "10  2023-07-12T16:59:46.990Z                    EMS_ELSYS_MACI  outdoor   \n",
       "11  2022-06-17T12:25:24.228Z                           Caputh1  outdoor   \n",
       "12  2025-01-11T06:30:56.679Z  andutan's wonder weather station  outdoor   \n",
       "\n",
       "                                              sensors  \\\n",
       "0   [{'title': 'PM10', 'unit': 'µg/m³', 'sensorTyp...   \n",
       "1   [{'_id': '5acf38d3223bd80019665ffa', 'title': ...   \n",
       "2   [{'title': 'PM10', 'unit': 'µg/m³', 'sensorTyp...   \n",
       "3   [{'title': 'PM10', 'unit': 'µg/m³', 'sensorTyp...   \n",
       "4   [{'title': 'PM10', 'unit': 'µg/m³', 'sensorTyp...   \n",
       "5   [{'icon': 'osem-cloud', 'title': 'PM2.5', 'uni...   \n",
       "6   [{'icon': 'osem-thermometer', 'title': 'temper...   \n",
       "7   [{'title': 'temperature', 'sensorType': 'DS18B...   \n",
       "8   [{'icon': 'osem-temperature-celsius', 'title':...   \n",
       "9   [{'icon': 'osem-thermometer', 'title': 'temper...   \n",
       "10  [{'icon': 'osem-temperature-celsius', 'title':...   \n",
       "11  [{'title': 'PM10', 'unit': 'µg/m³', 'sensorTyp...   \n",
       "12  [{'icon': 'osem-thermometer', 'title': 'temper...   \n",
       "\n",
       "                      model  \\\n",
       "0   luftdaten_sds011_bme280   \n",
       "1   luftdaten_sds011_bme280   \n",
       "2    luftdaten_sds011_dht22   \n",
       "3   luftdaten_sds011_bme280   \n",
       "4    luftdaten_sds011_dht22   \n",
       "5                    custom   \n",
       "6                    custom   \n",
       "7                    custom   \n",
       "8                    custom   \n",
       "9                    custom   \n",
       "10                   custom   \n",
       "11   luftdaten_sds011_dht11   \n",
       "12                   custom   \n",
       "\n",
       "                                      currentLocation  \\\n",
       "0   {'type': 'Point', 'coordinates': [23.405557, 4...   \n",
       "1   {'type': 'Point', 'coordinates': [23.359771, 4...   \n",
       "2   {'timestamp': '2019-06-10T07:18:07.267Z', 'coo...   \n",
       "3   {'timestamp': '2019-09-08T18:45:26.684Z', 'coo...   \n",
       "4   {'timestamp': '2020-09-10T03:29:28.238Z', 'coo...   \n",
       "5   {'timestamp': '2020-09-17T18:56:47.001Z', 'coo...   \n",
       "6   {'timestamp': '2020-12-22T13:19:48.273Z', 'coo...   \n",
       "7   {'type': 'Point', 'coordinates': [7.441287, 51...   \n",
       "8   {'timestamp': '2021-11-27T07:36:11.783Z', 'coo...   \n",
       "9   {'type': 'Point', 'coordinates': [5.753862, 45...   \n",
       "10  {'timestamp': '2021-11-29T09:25:28.622Z', 'coo...   \n",
       "11  {'timestamp': '2022-02-19T12:14:26.849Z', 'coo...   \n",
       "12  {'timestamp': '2022-04-09T16:44:26.294Z', 'coo...   \n",
       "\n",
       "           lastMeasurementAt  \\\n",
       "0   2025-01-13T18:14:32.264Z   \n",
       "1   2025-01-11T06:26:40.384Z   \n",
       "2   2024-04-07T18:52:26.648Z   \n",
       "3   2025-01-13T18:07:48.874Z   \n",
       "4   2022-10-13T17:44:14.421Z   \n",
       "5   2022-07-26T13:18:20.845Z   \n",
       "6   2025-01-13T18:16:13.791Z   \n",
       "7   2023-09-22T12:30:25.344Z   \n",
       "8   2025-01-13T18:09:41.695Z   \n",
       "9   2022-12-13T03:57:14.919Z   \n",
       "10  2023-07-12T16:59:46.981Z   \n",
       "11  2022-06-17T12:25:24.222Z   \n",
       "12  2025-01-11T06:30:56.091Z   \n",
       "\n",
       "                                                  loc    longitud    latitud  \\\n",
       "0   [{'geometry': {'type': 'Point', 'coordinates':...   23.405557  42.636516   \n",
       "1   [{'geometry': {'type': 'Point', 'coordinates':...   23.359771  42.700230   \n",
       "2   [{'geometry': {'timestamp': '2019-06-10T07:18:...    4.510325  52.222357   \n",
       "3   [{'geometry': {'timestamp': '2019-09-08T18:45:...    8.822279  53.076957   \n",
       "4   [{'geometry': {'timestamp': '2020-09-10T03:29:... -122.631289  45.539658   \n",
       "5   [{'geometry': {'timestamp': '2020-09-17T18:56:...   30.623199  50.461063   \n",
       "6   [{'geometry': {'timestamp': '2020-12-22T13:19:...    5.988284  51.317900   \n",
       "7   [{'geometry': {'type': 'Point', 'coordinates':...    7.441287  51.500407   \n",
       "8   [{'geometry': {'timestamp': '2021-11-27T07:36:...    5.735416  45.184907   \n",
       "9   [{'geometry': {'type': 'Point', 'coordinates':...    5.753862  45.184780   \n",
       "10  [{'geometry': {'timestamp': '2021-11-29T09:25:...    5.763326  45.191897   \n",
       "11  [{'geometry': {'timestamp': '2022-02-19T12:14:...   12.984025  52.334908   \n",
       "12  [{'geometry': {'timestamp': '2022-04-09T16:44:...    8.253330  50.003549   \n",
       "\n",
       "                       coordinates  \n",
       "0           [23.405557, 42.636516]  \n",
       "1            [23.359771, 42.70023]  \n",
       "2         [4.510325, 52.222357, 1]  \n",
       "3            [8.822279, 53.076957]  \n",
       "4   [-122.631289, 45.539658, -4.5]  \n",
       "5      [30.623199, 50.461063, 137]  \n",
       "6          [5.988284, 51.3179, 34]  \n",
       "7            [7.441287, 51.500407]  \n",
       "8       [5.735416, 45.184907, 300]  \n",
       "9        [5.753862, 45.18478, 240]  \n",
       "10           [5.763326, 45.191897]  \n",
       "11      [12.984025, 52.334908, 42]  \n",
       "12        [8.25333, 50.003549, 12]  "
      ]
     },
     "execution_count": 12,
     "metadata": {},
     "output_type": "execute_result"
    }
   ],
   "source": [
    "df_sensebox['longitud']=pd.Series(d.get('coordinates')[0] for d in df_sensebox.currentLocation).values\n",
    "df_sensebox['latitud']=pd.Series(d.get('coordinates')[1] for d in df_sensebox.currentLocation).values\n",
    "df_sensebox['coordinates']=pd.Series(d.get('coordinates') for d in df_sensebox.currentLocation).values\n",
    "\n",
    "df_sensebox"
   ]
  },
  {
   "cell_type": "markdown",
   "id": "a3e75ec4",
   "metadata": {},
   "source": [
    "Next, we separate the information of the sensors per senseBox station to access easier to them. The values in the column _sensors_ will be populating a new table, taking the value of the `id_sensebox` with them to proceed with a relational database architecture."
   ]
  },
  {
   "cell_type": "code",
   "execution_count": 13,
   "id": "0d68b77e",
   "metadata": {},
   "outputs": [
    {
     "data": {
      "text/html": [
       "<div>\n",
       "<style scoped>\n",
       "    .dataframe tbody tr th:only-of-type {\n",
       "        vertical-align: middle;\n",
       "    }\n",
       "\n",
       "    .dataframe tbody tr th {\n",
       "        vertical-align: top;\n",
       "    }\n",
       "\n",
       "    .dataframe thead th {\n",
       "        text-align: right;\n",
       "    }\n",
       "</style>\n",
       "<table border=\"1\" class=\"dataframe\">\n",
       "  <thead>\n",
       "    <tr style=\"text-align: right;\">\n",
       "      <th></th>\n",
       "      <th>title</th>\n",
       "      <th>unit</th>\n",
       "      <th>sensorType</th>\n",
       "      <th>icon</th>\n",
       "      <th>_id</th>\n",
       "      <th>lastMeasurement</th>\n",
       "      <th>m_value</th>\n",
       "      <th>m_date</th>\n",
       "      <th>id_sensebox</th>\n",
       "    </tr>\n",
       "  </thead>\n",
       "  <tbody>\n",
       "    <tr>\n",
       "      <th>0</th>\n",
       "      <td>PM10</td>\n",
       "      <td>µg/m³</td>\n",
       "      <td>SDS 011</td>\n",
       "      <td>osem-cloud</td>\n",
       "      <td>59721243fe1c740011344701</td>\n",
       "      <td>{'value': '4.00', 'createdAt': '2023-10-03T13:...</td>\n",
       "      <td>4.00</td>\n",
       "      <td>2023-10-03T13:01:16.694Z</td>\n",
       "      <td>59721243fe1c7400113446fc</td>\n",
       "    </tr>\n",
       "    <tr>\n",
       "      <th>1</th>\n",
       "      <td>PM2.5</td>\n",
       "      <td>µg/m³</td>\n",
       "      <td>SDS 011</td>\n",
       "      <td>osem-cloud</td>\n",
       "      <td>59721243fe1c740011344700</td>\n",
       "      <td>{'value': '2.23', 'createdAt': '2023-10-03T13:...</td>\n",
       "      <td>2.23</td>\n",
       "      <td>2023-10-03T13:01:16.694Z</td>\n",
       "      <td>59721243fe1c7400113446fc</td>\n",
       "    </tr>\n",
       "    <tr>\n",
       "      <th>2</th>\n",
       "      <td>Temperatur</td>\n",
       "      <td>°C</td>\n",
       "      <td>BME280</td>\n",
       "      <td>osem-thermometer</td>\n",
       "      <td>59721243fe1c7400113446ff</td>\n",
       "      <td>{'createdAt': '2025-01-13T18:14:32.264Z', 'val...</td>\n",
       "      <td>23.39</td>\n",
       "      <td>2025-01-13T18:14:32.264Z</td>\n",
       "      <td>59721243fe1c7400113446fc</td>\n",
       "    </tr>\n",
       "    <tr>\n",
       "      <th>3</th>\n",
       "      <td>rel. Luftfeuchte</td>\n",
       "      <td>%</td>\n",
       "      <td>BME280</td>\n",
       "      <td>osem-humidity</td>\n",
       "      <td>59721243fe1c7400113446fe</td>\n",
       "      <td>{'createdAt': '2025-01-13T18:14:32.264Z', 'val...</td>\n",
       "      <td>29.73</td>\n",
       "      <td>2025-01-13T18:14:32.264Z</td>\n",
       "      <td>59721243fe1c7400113446fc</td>\n",
       "    </tr>\n",
       "    <tr>\n",
       "      <th>4</th>\n",
       "      <td>Luftdruck</td>\n",
       "      <td>Pa</td>\n",
       "      <td>BME280</td>\n",
       "      <td>osem-barometer</td>\n",
       "      <td>59721243fe1c7400113446fd</td>\n",
       "      <td>{'value': '95091.63', 'createdAt': '2022-06-01...</td>\n",
       "      <td>95091.63</td>\n",
       "      <td>2022-06-01T03:57:35.828Z</td>\n",
       "      <td>59721243fe1c7400113446fc</td>\n",
       "    </tr>\n",
       "  </tbody>\n",
       "</table>\n",
       "</div>"
      ],
      "text/plain": [
       "              title   unit sensorType              icon  \\\n",
       "0              PM10  µg/m³    SDS 011        osem-cloud   \n",
       "1             PM2.5  µg/m³    SDS 011        osem-cloud   \n",
       "2        Temperatur     °C     BME280  osem-thermometer   \n",
       "3  rel. Luftfeuchte      %     BME280     osem-humidity   \n",
       "4         Luftdruck     Pa     BME280    osem-barometer   \n",
       "\n",
       "                        _id  \\\n",
       "0  59721243fe1c740011344701   \n",
       "1  59721243fe1c740011344700   \n",
       "2  59721243fe1c7400113446ff   \n",
       "3  59721243fe1c7400113446fe   \n",
       "4  59721243fe1c7400113446fd   \n",
       "\n",
       "                                     lastMeasurement   m_value  \\\n",
       "0  {'value': '4.00', 'createdAt': '2023-10-03T13:...      4.00   \n",
       "1  {'value': '2.23', 'createdAt': '2023-10-03T13:...      2.23   \n",
       "2  {'createdAt': '2025-01-13T18:14:32.264Z', 'val...     23.39   \n",
       "3  {'createdAt': '2025-01-13T18:14:32.264Z', 'val...     29.73   \n",
       "4  {'value': '95091.63', 'createdAt': '2022-06-01...  95091.63   \n",
       "\n",
       "                     m_date               id_sensebox  \n",
       "0  2023-10-03T13:01:16.694Z  59721243fe1c7400113446fc  \n",
       "1  2023-10-03T13:01:16.694Z  59721243fe1c7400113446fc  \n",
       "2  2025-01-13T18:14:32.264Z  59721243fe1c7400113446fc  \n",
       "3  2025-01-13T18:14:32.264Z  59721243fe1c7400113446fc  \n",
       "4  2022-06-01T03:57:35.828Z  59721243fe1c7400113446fc  "
      ]
     },
     "execution_count": 13,
     "metadata": {},
     "output_type": "execute_result"
    }
   ],
   "source": [
    "df_sensors=pd.DataFrame()\n",
    "\n",
    "for ind in df_sensebox.index:\n",
    "\n",
    "    _df=pd.DataFrame(df_sensebox.sensors[ind])\n",
    "\n",
    "    try: \n",
    "        _df['m_value']=pd.Series(d.get('value') for d in _df.lastMeasurement ).values\n",
    "        _df['m_date']=pd.Series(d.get('createdAt') for d in _df.lastMeasurement ).values\n",
    "    except AttributeError:\n",
    "        _df['m_value']=0\n",
    "        _df['m_date']=None\n",
    "\n",
    "    _df['id_sensebox']=df_sensebox.id_sensebox[ind]\n",
    "    df_sensors=pd.concat([df_sensors,_df], ignore_index=True)\n",
    "\n",
    "df_sensors.head()"
   ]
  },
  {
   "cell_type": "markdown",
   "id": "8f83cef4",
   "metadata": {},
   "source": [
    "We remove spaces in the _sensorType_ Column"
   ]
  },
  {
   "cell_type": "code",
   "execution_count": 14,
   "id": "c78dcd67",
   "metadata": {},
   "outputs": [],
   "source": [
    "df_sensors['sensorType']=df_sensors['sensorType'].str.replace(\" \",\"\")"
   ]
  },
  {
   "cell_type": "markdown",
   "id": "f4640fa5",
   "metadata": {},
   "source": [
    "We unify the variables measured by the sensors as they have different string chains for the same value:"
   ]
  },
  {
   "cell_type": "code",
   "execution_count": 15,
   "id": "de9cceb1",
   "metadata": {},
   "outputs": [
    {
     "data": {
      "text/plain": [
       "array(['PM10', 'PM2.5', 'Temperatur', 'rel. Luftfeuchte', 'Luftdruck',\n",
       "       'temperature', 'humidity', 'pressure', 'Pressure', 'presure',\n",
       "       'MP10', 'MP2.5', 'light', 'PM2_5', 'motion', 'battery', 'fCnt',\n",
       "       'pm1', 'pm25', 'pm10', 'dewpoint', 'rel. humidity',\n",
       "       'barometric pressure', 'fine particle matter PM2.5',\n",
       "       'fine particle matter PM10.0', 'radioactivety'], dtype=object)"
      ]
     },
     "execution_count": 15,
     "metadata": {},
     "output_type": "execute_result"
    }
   ],
   "source": [
    "df_sensors.title.unique()"
   ]
  },
  {
   "cell_type": "code",
   "execution_count": 16,
   "id": "0c044426",
   "metadata": {},
   "outputs": [],
   "source": [
    "dict_var={\n",
    "    'PM10':('MP10','pm1','pm10', 'fine particle matter PM10.0'),\n",
    "    'PM2.5':('MP2.5','PM2_5','pm25','fine particle matter PM2.5'), \n",
    "    'Temperature':('Temperatur','temperature'),\n",
    "    'Pressure':('pressure', 'presure', 'barometric pressure','Luftdruck'),\n",
    "    'Humidity':('humidity', 'rel. humidity', 'rel. Luftfeuchte')\n",
    "}\n",
    "\n",
    "for index in dict_var:\n",
    "    df_sensors['title']=np.where(df_sensors['title'].isin(dict_var[index]), index, df_sensors['title'])"
   ]
  },
  {
   "cell_type": "code",
   "execution_count": 17,
   "id": "1f207c9b",
   "metadata": {},
   "outputs": [
    {
     "data": {
      "text/plain": [
       "0           PM10\n",
       "1          PM2.5\n",
       "2    Temperature\n",
       "3       Humidity\n",
       "4       Pressure\n",
       "Name: title, dtype: object"
      ]
     },
     "execution_count": 17,
     "metadata": {},
     "output_type": "execute_result"
    }
   ],
   "source": [
    "df_sensors.title.head()"
   ]
  },
  {
   "cell_type": "markdown",
   "id": "01c910ac",
   "metadata": {},
   "source": [
    "Finally, we setup the indexes for each table to integrate the relational database paradigm of primary key. In this case, the primary key will be related to the sensebox identificator. We should remove the columns with dictionaries, series and list as it is not supported by the `SQLite` library."
   ]
  },
  {
   "cell_type": "code",
   "execution_count": 18,
   "id": "c56543cc",
   "metadata": {},
   "outputs": [
    {
     "data": {
      "text/html": [
       "<div>\n",
       "<style scoped>\n",
       "    .dataframe tbody tr th:only-of-type {\n",
       "        vertical-align: middle;\n",
       "    }\n",
       "\n",
       "    .dataframe tbody tr th {\n",
       "        vertical-align: top;\n",
       "    }\n",
       "\n",
       "    .dataframe thead th {\n",
       "        text-align: right;\n",
       "    }\n",
       "</style>\n",
       "<table border=\"1\" class=\"dataframe\">\n",
       "  <thead>\n",
       "    <tr style=\"text-align: right;\">\n",
       "      <th></th>\n",
       "      <th>title</th>\n",
       "      <th>unit</th>\n",
       "      <th>sensorType</th>\n",
       "      <th>icon</th>\n",
       "      <th>_id</th>\n",
       "      <th>m_value</th>\n",
       "      <th>m_date</th>\n",
       "    </tr>\n",
       "    <tr>\n",
       "      <th>id_sensebox</th>\n",
       "      <th></th>\n",
       "      <th></th>\n",
       "      <th></th>\n",
       "      <th></th>\n",
       "      <th></th>\n",
       "      <th></th>\n",
       "      <th></th>\n",
       "    </tr>\n",
       "  </thead>\n",
       "  <tbody>\n",
       "    <tr>\n",
       "      <th>59721243fe1c7400113446fc</th>\n",
       "      <td>PM10</td>\n",
       "      <td>µg/m³</td>\n",
       "      <td>SDS011</td>\n",
       "      <td>osem-cloud</td>\n",
       "      <td>59721243fe1c740011344701</td>\n",
       "      <td>4.00</td>\n",
       "      <td>2023-10-03T13:01:16.694Z</td>\n",
       "    </tr>\n",
       "    <tr>\n",
       "      <th>59721243fe1c7400113446fc</th>\n",
       "      <td>PM2.5</td>\n",
       "      <td>µg/m³</td>\n",
       "      <td>SDS011</td>\n",
       "      <td>osem-cloud</td>\n",
       "      <td>59721243fe1c740011344700</td>\n",
       "      <td>2.23</td>\n",
       "      <td>2023-10-03T13:01:16.694Z</td>\n",
       "    </tr>\n",
       "    <tr>\n",
       "      <th>59721243fe1c7400113446fc</th>\n",
       "      <td>Temperature</td>\n",
       "      <td>°C</td>\n",
       "      <td>BME280</td>\n",
       "      <td>osem-thermometer</td>\n",
       "      <td>59721243fe1c7400113446ff</td>\n",
       "      <td>23.39</td>\n",
       "      <td>2025-01-13T18:14:32.264Z</td>\n",
       "    </tr>\n",
       "    <tr>\n",
       "      <th>59721243fe1c7400113446fc</th>\n",
       "      <td>Humidity</td>\n",
       "      <td>%</td>\n",
       "      <td>BME280</td>\n",
       "      <td>osem-humidity</td>\n",
       "      <td>59721243fe1c7400113446fe</td>\n",
       "      <td>29.73</td>\n",
       "      <td>2025-01-13T18:14:32.264Z</td>\n",
       "    </tr>\n",
       "    <tr>\n",
       "      <th>59721243fe1c7400113446fc</th>\n",
       "      <td>Pressure</td>\n",
       "      <td>Pa</td>\n",
       "      <td>BME280</td>\n",
       "      <td>osem-barometer</td>\n",
       "      <td>59721243fe1c7400113446fd</td>\n",
       "      <td>95091.63</td>\n",
       "      <td>2022-06-01T03:57:35.828Z</td>\n",
       "    </tr>\n",
       "    <tr>\n",
       "      <th>...</th>\n",
       "      <td>...</td>\n",
       "      <td>...</td>\n",
       "      <td>...</td>\n",
       "      <td>...</td>\n",
       "      <td>...</td>\n",
       "      <td>...</td>\n",
       "      <td>...</td>\n",
       "    </tr>\n",
       "    <tr>\n",
       "      <th>6251b7ead7e732001b3a3315</th>\n",
       "      <td>Humidity</td>\n",
       "      <td>%</td>\n",
       "      <td>DHT22</td>\n",
       "      <td>osem-humidity</td>\n",
       "      <td>6251b7ead7e732001b3a331a</td>\n",
       "      <td>99.90001</td>\n",
       "      <td>2025-01-11T06:30:56.091Z</td>\n",
       "    </tr>\n",
       "    <tr>\n",
       "      <th>6251b7ead7e732001b3a3315</th>\n",
       "      <td>Pressure</td>\n",
       "      <td>hPa</td>\n",
       "      <td>BMP180</td>\n",
       "      <td>osem-barometer</td>\n",
       "      <td>6251b7ead7e732001b3a3319</td>\n",
       "      <td>1010.602</td>\n",
       "      <td>2025-01-11T06:30:56.091Z</td>\n",
       "    </tr>\n",
       "    <tr>\n",
       "      <th>6251b7ead7e732001b3a3315</th>\n",
       "      <td>PM2.5</td>\n",
       "      <td>µg/m³</td>\n",
       "      <td>SDS011</td>\n",
       "      <td>osem-cloud</td>\n",
       "      <td>6251b7ead7e732001b3a3318</td>\n",
       "      <td>2.6</td>\n",
       "      <td>2022-06-01T03:58:15.535Z</td>\n",
       "    </tr>\n",
       "    <tr>\n",
       "      <th>6251b7ead7e732001b3a3315</th>\n",
       "      <td>PM10</td>\n",
       "      <td>µg/m³</td>\n",
       "      <td>SDS011</td>\n",
       "      <td>osem-cloud</td>\n",
       "      <td>6251b7ead7e732001b3a3317</td>\n",
       "      <td>16</td>\n",
       "      <td>2025-01-11T06:30:56.091Z</td>\n",
       "    </tr>\n",
       "    <tr>\n",
       "      <th>6251b7ead7e732001b3a3315</th>\n",
       "      <td>radioactivety</td>\n",
       "      <td>µS/h</td>\n",
       "      <td>MIGHTYOHMGEIGERCOUNTER</td>\n",
       "      <td>osem-radioactive</td>\n",
       "      <td>6251b7ead7e732001b3a3316</td>\n",
       "      <td>0.13</td>\n",
       "      <td>2025-01-11T06:30:56.091Z</td>\n",
       "    </tr>\n",
       "  </tbody>\n",
       "</table>\n",
       "<p>72 rows × 7 columns</p>\n",
       "</div>"
      ],
      "text/plain": [
       "                                  title   unit              sensorType  \\\n",
       "id_sensebox                                                              \n",
       "59721243fe1c7400113446fc           PM10  µg/m³                  SDS011   \n",
       "59721243fe1c7400113446fc          PM2.5  µg/m³                  SDS011   \n",
       "59721243fe1c7400113446fc    Temperature     °C                  BME280   \n",
       "59721243fe1c7400113446fc       Humidity      %                  BME280   \n",
       "59721243fe1c7400113446fc       Pressure     Pa                  BME280   \n",
       "...                                 ...    ...                     ...   \n",
       "6251b7ead7e732001b3a3315       Humidity      %                   DHT22   \n",
       "6251b7ead7e732001b3a3315       Pressure    hPa                  BMP180   \n",
       "6251b7ead7e732001b3a3315          PM2.5  µg/m³                  SDS011   \n",
       "6251b7ead7e732001b3a3315           PM10  µg/m³                  SDS011   \n",
       "6251b7ead7e732001b3a3315  radioactivety   µS/h  MIGHTYOHMGEIGERCOUNTER   \n",
       "\n",
       "                                      icon                       _id  \\\n",
       "id_sensebox                                                            \n",
       "59721243fe1c7400113446fc        osem-cloud  59721243fe1c740011344701   \n",
       "59721243fe1c7400113446fc        osem-cloud  59721243fe1c740011344700   \n",
       "59721243fe1c7400113446fc  osem-thermometer  59721243fe1c7400113446ff   \n",
       "59721243fe1c7400113446fc     osem-humidity  59721243fe1c7400113446fe   \n",
       "59721243fe1c7400113446fc    osem-barometer  59721243fe1c7400113446fd   \n",
       "...                                    ...                       ...   \n",
       "6251b7ead7e732001b3a3315     osem-humidity  6251b7ead7e732001b3a331a   \n",
       "6251b7ead7e732001b3a3315    osem-barometer  6251b7ead7e732001b3a3319   \n",
       "6251b7ead7e732001b3a3315        osem-cloud  6251b7ead7e732001b3a3318   \n",
       "6251b7ead7e732001b3a3315        osem-cloud  6251b7ead7e732001b3a3317   \n",
       "6251b7ead7e732001b3a3315  osem-radioactive  6251b7ead7e732001b3a3316   \n",
       "\n",
       "                           m_value                    m_date  \n",
       "id_sensebox                                                   \n",
       "59721243fe1c7400113446fc      4.00  2023-10-03T13:01:16.694Z  \n",
       "59721243fe1c7400113446fc      2.23  2023-10-03T13:01:16.694Z  \n",
       "59721243fe1c7400113446fc     23.39  2025-01-13T18:14:32.264Z  \n",
       "59721243fe1c7400113446fc     29.73  2025-01-13T18:14:32.264Z  \n",
       "59721243fe1c7400113446fc  95091.63  2022-06-01T03:57:35.828Z  \n",
       "...                            ...                       ...  \n",
       "6251b7ead7e732001b3a3315  99.90001  2025-01-11T06:30:56.091Z  \n",
       "6251b7ead7e732001b3a3315  1010.602  2025-01-11T06:30:56.091Z  \n",
       "6251b7ead7e732001b3a3315       2.6  2022-06-01T03:58:15.535Z  \n",
       "6251b7ead7e732001b3a3315        16  2025-01-11T06:30:56.091Z  \n",
       "6251b7ead7e732001b3a3315      0.13  2025-01-11T06:30:56.091Z  \n",
       "\n",
       "[72 rows x 7 columns]"
      ]
     },
     "execution_count": 18,
     "metadata": {},
     "output_type": "execute_result"
    }
   ],
   "source": [
    "df_sensors.drop(columns=['lastMeasurement'], axis=1, inplace=True)\n",
    "df_sensors.set_index('id_sensebox')"
   ]
  },
  {
   "cell_type": "code",
   "execution_count": 19,
   "id": "6f724492",
   "metadata": {},
   "outputs": [
    {
     "data": {
      "text/html": [
       "<div>\n",
       "<style scoped>\n",
       "    .dataframe tbody tr th:only-of-type {\n",
       "        vertical-align: middle;\n",
       "    }\n",
       "\n",
       "    .dataframe tbody tr th {\n",
       "        vertical-align: top;\n",
       "    }\n",
       "\n",
       "    .dataframe thead th {\n",
       "        text-align: right;\n",
       "    }\n",
       "</style>\n",
       "<table border=\"1\" class=\"dataframe\">\n",
       "  <thead>\n",
       "    <tr style=\"text-align: right;\">\n",
       "      <th></th>\n",
       "      <th>createdAt</th>\n",
       "      <th>updatedAt</th>\n",
       "      <th>name</th>\n",
       "      <th>exposure</th>\n",
       "      <th>model</th>\n",
       "      <th>lastMeasurementAt</th>\n",
       "      <th>longitud</th>\n",
       "      <th>latitud</th>\n",
       "    </tr>\n",
       "    <tr>\n",
       "      <th>id_sensebox</th>\n",
       "      <th></th>\n",
       "      <th></th>\n",
       "      <th></th>\n",
       "      <th></th>\n",
       "      <th></th>\n",
       "      <th></th>\n",
       "      <th></th>\n",
       "      <th></th>\n",
       "    </tr>\n",
       "  </thead>\n",
       "  <tbody>\n",
       "    <tr>\n",
       "      <th>59721243fe1c7400113446fc</th>\n",
       "      <td>2022-03-30T11:25:43.328Z</td>\n",
       "      <td>2025-01-13T18:14:32.268Z</td>\n",
       "      <td>M_Office_1</td>\n",
       "      <td>indoor</td>\n",
       "      <td>luftdaten_sds011_bme280</td>\n",
       "      <td>2025-01-13T18:14:32.264Z</td>\n",
       "      <td>23.405557</td>\n",
       "      <td>42.636516</td>\n",
       "    </tr>\n",
       "    <tr>\n",
       "      <th>5aa71abe396417001bdfe04a</th>\n",
       "      <td>2022-03-30T11:25:43.506Z</td>\n",
       "      <td>2025-01-11T06:26:40.394Z</td>\n",
       "      <td>2xBME280</td>\n",
       "      <td>indoor</td>\n",
       "      <td>luftdaten_sds011_bme280</td>\n",
       "      <td>2025-01-11T06:26:40.384Z</td>\n",
       "      <td>23.359771</td>\n",
       "      <td>42.700230</td>\n",
       "    </tr>\n",
       "    <tr>\n",
       "      <th>5cfe042fa1ba9f001afb0480</th>\n",
       "      <td>2022-03-30T11:25:43.734Z</td>\n",
       "      <td>2024-04-07T18:52:26.653Z</td>\n",
       "      <td>ph1m_dust</td>\n",
       "      <td>outdoor</td>\n",
       "      <td>luftdaten_sds011_dht22</td>\n",
       "      <td>2024-04-07T18:52:26.648Z</td>\n",
       "      <td>4.510325</td>\n",
       "      <td>52.222357</td>\n",
       "    </tr>\n",
       "    <tr>\n",
       "      <th>5d754c46953683001a37a1ce</th>\n",
       "      <td>2022-03-30T11:25:43.763Z</td>\n",
       "      <td>2025-01-13T18:07:48.883Z</td>\n",
       "      <td>B13</td>\n",
       "      <td>outdoor</td>\n",
       "      <td>luftdaten_sds011_bme280</td>\n",
       "      <td>2025-01-13T18:07:48.874Z</td>\n",
       "      <td>8.822279</td>\n",
       "      <td>53.076957</td>\n",
       "    </tr>\n",
       "    <tr>\n",
       "      <th>5f599d98e26476001c3e821e</th>\n",
       "      <td>2022-03-30T11:25:43.888Z</td>\n",
       "      <td>2022-10-13T17:44:14.425Z</td>\n",
       "      <td>PDX_GrantPark</td>\n",
       "      <td>outdoor</td>\n",
       "      <td>luftdaten_sds011_dht22</td>\n",
       "      <td>2022-10-13T17:44:14.421Z</td>\n",
       "      <td>-122.631289</td>\n",
       "      <td>45.539658</td>\n",
       "    </tr>\n",
       "    <tr>\n",
       "      <th>5f63b16f5189f4001bf880d8</th>\n",
       "      <td>2022-03-30T11:25:43.890Z</td>\n",
       "      <td>2022-07-26T13:18:20.849Z</td>\n",
       "      <td>Malya_1</td>\n",
       "      <td>outdoor</td>\n",
       "      <td>custom</td>\n",
       "      <td>2022-07-26T13:18:20.845Z</td>\n",
       "      <td>30.623199</td>\n",
       "      <td>50.461063</td>\n",
       "    </tr>\n",
       "    <tr>\n",
       "      <th>5fe1f274c31ca0001c930586</th>\n",
       "      <td>2020-12-22T13:19:48.278Z</td>\n",
       "      <td>2025-01-13T18:16:13.854Z</td>\n",
       "      <td>FijnstofHelden</td>\n",
       "      <td>outdoor</td>\n",
       "      <td>custom</td>\n",
       "      <td>2025-01-13T18:16:13.791Z</td>\n",
       "      <td>5.988284</td>\n",
       "      <td>51.317900</td>\n",
       "    </tr>\n",
       "    <tr>\n",
       "      <th>6079b79916aef4001b9fb977</th>\n",
       "      <td>2022-03-30T11:25:43.933Z</td>\n",
       "      <td>2023-09-22T12:30:25.352Z</td>\n",
       "      <td>TUDo_CNI_SCS_5</td>\n",
       "      <td>outdoor</td>\n",
       "      <td>custom</td>\n",
       "      <td>2023-09-22T12:30:25.344Z</td>\n",
       "      <td>7.441287</td>\n",
       "      <td>51.500407</td>\n",
       "    </tr>\n",
       "    <tr>\n",
       "      <th>61a1dfebd85cc7001b4d04e3</th>\n",
       "      <td>2022-03-30T11:25:43.960Z</td>\n",
       "      <td>2025-01-13T18:09:41.699Z</td>\n",
       "      <td>ELSYS_EMS_PERRET_NEE</td>\n",
       "      <td>outdoor</td>\n",
       "      <td>custom</td>\n",
       "      <td>2025-01-13T18:09:41.695Z</td>\n",
       "      <td>5.735416</td>\n",
       "      <td>45.184907</td>\n",
       "    </tr>\n",
       "    <tr>\n",
       "      <th>61a223c64a7833001b3fcf09</th>\n",
       "      <td>2022-03-30T11:25:43.960Z</td>\n",
       "      <td>2022-12-13T03:57:14.925Z</td>\n",
       "      <td>MCF88_LW12TERPM_SMH</td>\n",
       "      <td>outdoor</td>\n",
       "      <td>custom</td>\n",
       "      <td>2022-12-13T03:57:14.919Z</td>\n",
       "      <td>5.753862</td>\n",
       "      <td>45.184780</td>\n",
       "    </tr>\n",
       "    <tr>\n",
       "      <th>61a49c884a7833001b5eda03</th>\n",
       "      <td>2022-03-30T11:25:43.960Z</td>\n",
       "      <td>2023-07-12T16:59:46.990Z</td>\n",
       "      <td>EMS_ELSYS_MACI</td>\n",
       "      <td>outdoor</td>\n",
       "      <td>custom</td>\n",
       "      <td>2023-07-12T16:59:46.981Z</td>\n",
       "      <td>5.763326</td>\n",
       "      <td>45.191897</td>\n",
       "    </tr>\n",
       "    <tr>\n",
       "      <th>6210df22e00700001bb05e51</th>\n",
       "      <td>2022-02-19T12:14:26.853Z</td>\n",
       "      <td>2022-06-17T12:25:24.228Z</td>\n",
       "      <td>Caputh1</td>\n",
       "      <td>outdoor</td>\n",
       "      <td>luftdaten_sds011_dht11</td>\n",
       "      <td>2022-06-17T12:25:24.222Z</td>\n",
       "      <td>12.984025</td>\n",
       "      <td>52.334908</td>\n",
       "    </tr>\n",
       "    <tr>\n",
       "      <th>6251b7ead7e732001b3a3315</th>\n",
       "      <td>2022-04-09T16:44:26.298Z</td>\n",
       "      <td>2025-01-11T06:30:56.679Z</td>\n",
       "      <td>andutan's wonder weather station</td>\n",
       "      <td>outdoor</td>\n",
       "      <td>custom</td>\n",
       "      <td>2025-01-11T06:30:56.091Z</td>\n",
       "      <td>8.253330</td>\n",
       "      <td>50.003549</td>\n",
       "    </tr>\n",
       "  </tbody>\n",
       "</table>\n",
       "</div>"
      ],
      "text/plain": [
       "                                         createdAt                 updatedAt  \\\n",
       "id_sensebox                                                                    \n",
       "59721243fe1c7400113446fc  2022-03-30T11:25:43.328Z  2025-01-13T18:14:32.268Z   \n",
       "5aa71abe396417001bdfe04a  2022-03-30T11:25:43.506Z  2025-01-11T06:26:40.394Z   \n",
       "5cfe042fa1ba9f001afb0480  2022-03-30T11:25:43.734Z  2024-04-07T18:52:26.653Z   \n",
       "5d754c46953683001a37a1ce  2022-03-30T11:25:43.763Z  2025-01-13T18:07:48.883Z   \n",
       "5f599d98e26476001c3e821e  2022-03-30T11:25:43.888Z  2022-10-13T17:44:14.425Z   \n",
       "5f63b16f5189f4001bf880d8  2022-03-30T11:25:43.890Z  2022-07-26T13:18:20.849Z   \n",
       "5fe1f274c31ca0001c930586  2020-12-22T13:19:48.278Z  2025-01-13T18:16:13.854Z   \n",
       "6079b79916aef4001b9fb977  2022-03-30T11:25:43.933Z  2023-09-22T12:30:25.352Z   \n",
       "61a1dfebd85cc7001b4d04e3  2022-03-30T11:25:43.960Z  2025-01-13T18:09:41.699Z   \n",
       "61a223c64a7833001b3fcf09  2022-03-30T11:25:43.960Z  2022-12-13T03:57:14.925Z   \n",
       "61a49c884a7833001b5eda03  2022-03-30T11:25:43.960Z  2023-07-12T16:59:46.990Z   \n",
       "6210df22e00700001bb05e51  2022-02-19T12:14:26.853Z  2022-06-17T12:25:24.228Z   \n",
       "6251b7ead7e732001b3a3315  2022-04-09T16:44:26.298Z  2025-01-11T06:30:56.679Z   \n",
       "\n",
       "                                                      name exposure  \\\n",
       "id_sensebox                                                           \n",
       "59721243fe1c7400113446fc                        M_Office_1   indoor   \n",
       "5aa71abe396417001bdfe04a                          2xBME280   indoor   \n",
       "5cfe042fa1ba9f001afb0480                         ph1m_dust  outdoor   \n",
       "5d754c46953683001a37a1ce                               B13  outdoor   \n",
       "5f599d98e26476001c3e821e                     PDX_GrantPark  outdoor   \n",
       "5f63b16f5189f4001bf880d8                           Malya_1  outdoor   \n",
       "5fe1f274c31ca0001c930586                    FijnstofHelden  outdoor   \n",
       "6079b79916aef4001b9fb977                    TUDo_CNI_SCS_5  outdoor   \n",
       "61a1dfebd85cc7001b4d04e3              ELSYS_EMS_PERRET_NEE  outdoor   \n",
       "61a223c64a7833001b3fcf09               MCF88_LW12TERPM_SMH  outdoor   \n",
       "61a49c884a7833001b5eda03                    EMS_ELSYS_MACI  outdoor   \n",
       "6210df22e00700001bb05e51                           Caputh1  outdoor   \n",
       "6251b7ead7e732001b3a3315  andutan's wonder weather station  outdoor   \n",
       "\n",
       "                                            model         lastMeasurementAt  \\\n",
       "id_sensebox                                                                   \n",
       "59721243fe1c7400113446fc  luftdaten_sds011_bme280  2025-01-13T18:14:32.264Z   \n",
       "5aa71abe396417001bdfe04a  luftdaten_sds011_bme280  2025-01-11T06:26:40.384Z   \n",
       "5cfe042fa1ba9f001afb0480   luftdaten_sds011_dht22  2024-04-07T18:52:26.648Z   \n",
       "5d754c46953683001a37a1ce  luftdaten_sds011_bme280  2025-01-13T18:07:48.874Z   \n",
       "5f599d98e26476001c3e821e   luftdaten_sds011_dht22  2022-10-13T17:44:14.421Z   \n",
       "5f63b16f5189f4001bf880d8                   custom  2022-07-26T13:18:20.845Z   \n",
       "5fe1f274c31ca0001c930586                   custom  2025-01-13T18:16:13.791Z   \n",
       "6079b79916aef4001b9fb977                   custom  2023-09-22T12:30:25.344Z   \n",
       "61a1dfebd85cc7001b4d04e3                   custom  2025-01-13T18:09:41.695Z   \n",
       "61a223c64a7833001b3fcf09                   custom  2022-12-13T03:57:14.919Z   \n",
       "61a49c884a7833001b5eda03                   custom  2023-07-12T16:59:46.981Z   \n",
       "6210df22e00700001bb05e51   luftdaten_sds011_dht11  2022-06-17T12:25:24.222Z   \n",
       "6251b7ead7e732001b3a3315                   custom  2025-01-11T06:30:56.091Z   \n",
       "\n",
       "                            longitud    latitud  \n",
       "id_sensebox                                      \n",
       "59721243fe1c7400113446fc   23.405557  42.636516  \n",
       "5aa71abe396417001bdfe04a   23.359771  42.700230  \n",
       "5cfe042fa1ba9f001afb0480    4.510325  52.222357  \n",
       "5d754c46953683001a37a1ce    8.822279  53.076957  \n",
       "5f599d98e26476001c3e821e -122.631289  45.539658  \n",
       "5f63b16f5189f4001bf880d8   30.623199  50.461063  \n",
       "5fe1f274c31ca0001c930586    5.988284  51.317900  \n",
       "6079b79916aef4001b9fb977    7.441287  51.500407  \n",
       "61a1dfebd85cc7001b4d04e3    5.735416  45.184907  \n",
       "61a223c64a7833001b3fcf09    5.753862  45.184780  \n",
       "61a49c884a7833001b5eda03    5.763326  45.191897  \n",
       "6210df22e00700001bb05e51   12.984025  52.334908  \n",
       "6251b7ead7e732001b3a3315    8.253330  50.003549  "
      ]
     },
     "execution_count": 19,
     "metadata": {},
     "output_type": "execute_result"
    }
   ],
   "source": [
    "df_sensebox.drop(columns=['sensors','currentLocation','coordinates','loc'], axis=1, inplace=True)\n",
    "df_sensebox.set_index('id_sensebox')"
   ]
  },
  {
   "cell_type": "markdown",
   "id": "091c7ba2-b1ba-4a1a-8fea-50210a5b214b",
   "metadata": {},
   "source": [
    "#### <a id=\"222SQL\">2.2 SQL query questions</a>\n",
    "\n",
    "_Create a `SQLite` database (see `01-sqlite-database.ipynb` from Unit 7 as a reference), and store at least two tables in a well structured and thought through relational database (no need to store any data in the database that you do not need in your subsequent analysis)._"
   ]
  },
  {
   "cell_type": "markdown",
   "id": "0b54b797",
   "metadata": {},
   "source": [
    "To create a SQLite database, we start by importing the relevant libraries:"
   ]
  },
  {
   "cell_type": "code",
   "execution_count": 20,
   "id": "4ee3fb89-fa27-40f2-98c5-cd038bec58b8",
   "metadata": {},
   "outputs": [],
   "source": [
    "import sqlite3\n",
    "import pandas as pd\n",
    "import os"
   ]
  },
  {
   "cell_type": "markdown",
   "id": "3ff334c8",
   "metadata": {},
   "source": [
    "Our data will be populated by the dataframes `df_sensebox` and `df_sensors`."
   ]
  },
  {
   "cell_type": "code",
   "execution_count": 21,
   "id": "880085e4",
   "metadata": {},
   "outputs": [],
   "source": [
    "db = sqlite3.connect(\"sensebox-db.sqlite\")"
   ]
  },
  {
   "cell_type": "code",
   "execution_count": 22,
   "id": "b5477dfe",
   "metadata": {},
   "outputs": [
    {
     "data": {
      "text/html": [
       "<div>\n",
       "<style scoped>\n",
       "    .dataframe tbody tr th:only-of-type {\n",
       "        vertical-align: middle;\n",
       "    }\n",
       "\n",
       "    .dataframe tbody tr th {\n",
       "        vertical-align: top;\n",
       "    }\n",
       "\n",
       "    .dataframe thead th {\n",
       "        text-align: right;\n",
       "    }\n",
       "</style>\n",
       "<table border=\"1\" class=\"dataframe\">\n",
       "  <thead>\n",
       "    <tr style=\"text-align: right;\">\n",
       "      <th></th>\n",
       "      <th>id_sensebox</th>\n",
       "      <th>createdAt</th>\n",
       "      <th>updatedAt</th>\n",
       "      <th>name</th>\n",
       "      <th>exposure</th>\n",
       "      <th>model</th>\n",
       "      <th>lastMeasurementAt</th>\n",
       "      <th>longitud</th>\n",
       "      <th>latitud</th>\n",
       "    </tr>\n",
       "  </thead>\n",
       "  <tbody>\n",
       "    <tr>\n",
       "      <th>0</th>\n",
       "      <td>59721243fe1c7400113446fc</td>\n",
       "      <td>2022-03-30T11:25:43.328Z</td>\n",
       "      <td>2025-01-13T18:14:32.268Z</td>\n",
       "      <td>M_Office_1</td>\n",
       "      <td>indoor</td>\n",
       "      <td>luftdaten_sds011_bme280</td>\n",
       "      <td>2025-01-13T18:14:32.264Z</td>\n",
       "      <td>23.405557</td>\n",
       "      <td>42.636516</td>\n",
       "    </tr>\n",
       "    <tr>\n",
       "      <th>1</th>\n",
       "      <td>5aa71abe396417001bdfe04a</td>\n",
       "      <td>2022-03-30T11:25:43.506Z</td>\n",
       "      <td>2025-01-11T06:26:40.394Z</td>\n",
       "      <td>2xBME280</td>\n",
       "      <td>indoor</td>\n",
       "      <td>luftdaten_sds011_bme280</td>\n",
       "      <td>2025-01-11T06:26:40.384Z</td>\n",
       "      <td>23.359771</td>\n",
       "      <td>42.700230</td>\n",
       "    </tr>\n",
       "    <tr>\n",
       "      <th>2</th>\n",
       "      <td>5cfe042fa1ba9f001afb0480</td>\n",
       "      <td>2022-03-30T11:25:43.734Z</td>\n",
       "      <td>2024-04-07T18:52:26.653Z</td>\n",
       "      <td>ph1m_dust</td>\n",
       "      <td>outdoor</td>\n",
       "      <td>luftdaten_sds011_dht22</td>\n",
       "      <td>2024-04-07T18:52:26.648Z</td>\n",
       "      <td>4.510325</td>\n",
       "      <td>52.222357</td>\n",
       "    </tr>\n",
       "    <tr>\n",
       "      <th>3</th>\n",
       "      <td>5d754c46953683001a37a1ce</td>\n",
       "      <td>2022-03-30T11:25:43.763Z</td>\n",
       "      <td>2025-01-13T18:07:48.883Z</td>\n",
       "      <td>B13</td>\n",
       "      <td>outdoor</td>\n",
       "      <td>luftdaten_sds011_bme280</td>\n",
       "      <td>2025-01-13T18:07:48.874Z</td>\n",
       "      <td>8.822279</td>\n",
       "      <td>53.076957</td>\n",
       "    </tr>\n",
       "    <tr>\n",
       "      <th>4</th>\n",
       "      <td>5f599d98e26476001c3e821e</td>\n",
       "      <td>2022-03-30T11:25:43.888Z</td>\n",
       "      <td>2022-10-13T17:44:14.425Z</td>\n",
       "      <td>PDX_GrantPark</td>\n",
       "      <td>outdoor</td>\n",
       "      <td>luftdaten_sds011_dht22</td>\n",
       "      <td>2022-10-13T17:44:14.421Z</td>\n",
       "      <td>-122.631289</td>\n",
       "      <td>45.539658</td>\n",
       "    </tr>\n",
       "    <tr>\n",
       "      <th>5</th>\n",
       "      <td>5f63b16f5189f4001bf880d8</td>\n",
       "      <td>2022-03-30T11:25:43.890Z</td>\n",
       "      <td>2022-07-26T13:18:20.849Z</td>\n",
       "      <td>Malya_1</td>\n",
       "      <td>outdoor</td>\n",
       "      <td>custom</td>\n",
       "      <td>2022-07-26T13:18:20.845Z</td>\n",
       "      <td>30.623199</td>\n",
       "      <td>50.461063</td>\n",
       "    </tr>\n",
       "    <tr>\n",
       "      <th>6</th>\n",
       "      <td>5fe1f274c31ca0001c930586</td>\n",
       "      <td>2020-12-22T13:19:48.278Z</td>\n",
       "      <td>2025-01-13T18:16:13.854Z</td>\n",
       "      <td>FijnstofHelden</td>\n",
       "      <td>outdoor</td>\n",
       "      <td>custom</td>\n",
       "      <td>2025-01-13T18:16:13.791Z</td>\n",
       "      <td>5.988284</td>\n",
       "      <td>51.317900</td>\n",
       "    </tr>\n",
       "    <tr>\n",
       "      <th>7</th>\n",
       "      <td>6079b79916aef4001b9fb977</td>\n",
       "      <td>2022-03-30T11:25:43.933Z</td>\n",
       "      <td>2023-09-22T12:30:25.352Z</td>\n",
       "      <td>TUDo_CNI_SCS_5</td>\n",
       "      <td>outdoor</td>\n",
       "      <td>custom</td>\n",
       "      <td>2023-09-22T12:30:25.344Z</td>\n",
       "      <td>7.441287</td>\n",
       "      <td>51.500407</td>\n",
       "    </tr>\n",
       "    <tr>\n",
       "      <th>8</th>\n",
       "      <td>61a1dfebd85cc7001b4d04e3</td>\n",
       "      <td>2022-03-30T11:25:43.960Z</td>\n",
       "      <td>2025-01-13T18:09:41.699Z</td>\n",
       "      <td>ELSYS_EMS_PERRET_NEE</td>\n",
       "      <td>outdoor</td>\n",
       "      <td>custom</td>\n",
       "      <td>2025-01-13T18:09:41.695Z</td>\n",
       "      <td>5.735416</td>\n",
       "      <td>45.184907</td>\n",
       "    </tr>\n",
       "    <tr>\n",
       "      <th>9</th>\n",
       "      <td>61a223c64a7833001b3fcf09</td>\n",
       "      <td>2022-03-30T11:25:43.960Z</td>\n",
       "      <td>2022-12-13T03:57:14.925Z</td>\n",
       "      <td>MCF88_LW12TERPM_SMH</td>\n",
       "      <td>outdoor</td>\n",
       "      <td>custom</td>\n",
       "      <td>2022-12-13T03:57:14.919Z</td>\n",
       "      <td>5.753862</td>\n",
       "      <td>45.184780</td>\n",
       "    </tr>\n",
       "    <tr>\n",
       "      <th>10</th>\n",
       "      <td>61a49c884a7833001b5eda03</td>\n",
       "      <td>2022-03-30T11:25:43.960Z</td>\n",
       "      <td>2023-07-12T16:59:46.990Z</td>\n",
       "      <td>EMS_ELSYS_MACI</td>\n",
       "      <td>outdoor</td>\n",
       "      <td>custom</td>\n",
       "      <td>2023-07-12T16:59:46.981Z</td>\n",
       "      <td>5.763326</td>\n",
       "      <td>45.191897</td>\n",
       "    </tr>\n",
       "    <tr>\n",
       "      <th>11</th>\n",
       "      <td>6210df22e00700001bb05e51</td>\n",
       "      <td>2022-02-19T12:14:26.853Z</td>\n",
       "      <td>2022-06-17T12:25:24.228Z</td>\n",
       "      <td>Caputh1</td>\n",
       "      <td>outdoor</td>\n",
       "      <td>luftdaten_sds011_dht11</td>\n",
       "      <td>2022-06-17T12:25:24.222Z</td>\n",
       "      <td>12.984025</td>\n",
       "      <td>52.334908</td>\n",
       "    </tr>\n",
       "    <tr>\n",
       "      <th>12</th>\n",
       "      <td>6251b7ead7e732001b3a3315</td>\n",
       "      <td>2022-04-09T16:44:26.298Z</td>\n",
       "      <td>2025-01-11T06:30:56.679Z</td>\n",
       "      <td>andutan's wonder weather station</td>\n",
       "      <td>outdoor</td>\n",
       "      <td>custom</td>\n",
       "      <td>2025-01-11T06:30:56.091Z</td>\n",
       "      <td>8.253330</td>\n",
       "      <td>50.003549</td>\n",
       "    </tr>\n",
       "  </tbody>\n",
       "</table>\n",
       "</div>"
      ],
      "text/plain": [
       "                 id_sensebox                 createdAt  \\\n",
       "0   59721243fe1c7400113446fc  2022-03-30T11:25:43.328Z   \n",
       "1   5aa71abe396417001bdfe04a  2022-03-30T11:25:43.506Z   \n",
       "2   5cfe042fa1ba9f001afb0480  2022-03-30T11:25:43.734Z   \n",
       "3   5d754c46953683001a37a1ce  2022-03-30T11:25:43.763Z   \n",
       "4   5f599d98e26476001c3e821e  2022-03-30T11:25:43.888Z   \n",
       "5   5f63b16f5189f4001bf880d8  2022-03-30T11:25:43.890Z   \n",
       "6   5fe1f274c31ca0001c930586  2020-12-22T13:19:48.278Z   \n",
       "7   6079b79916aef4001b9fb977  2022-03-30T11:25:43.933Z   \n",
       "8   61a1dfebd85cc7001b4d04e3  2022-03-30T11:25:43.960Z   \n",
       "9   61a223c64a7833001b3fcf09  2022-03-30T11:25:43.960Z   \n",
       "10  61a49c884a7833001b5eda03  2022-03-30T11:25:43.960Z   \n",
       "11  6210df22e00700001bb05e51  2022-02-19T12:14:26.853Z   \n",
       "12  6251b7ead7e732001b3a3315  2022-04-09T16:44:26.298Z   \n",
       "\n",
       "                   updatedAt                              name exposure  \\\n",
       "0   2025-01-13T18:14:32.268Z                        M_Office_1   indoor   \n",
       "1   2025-01-11T06:26:40.394Z                          2xBME280   indoor   \n",
       "2   2024-04-07T18:52:26.653Z                         ph1m_dust  outdoor   \n",
       "3   2025-01-13T18:07:48.883Z                               B13  outdoor   \n",
       "4   2022-10-13T17:44:14.425Z                     PDX_GrantPark  outdoor   \n",
       "5   2022-07-26T13:18:20.849Z                           Malya_1  outdoor   \n",
       "6   2025-01-13T18:16:13.854Z                    FijnstofHelden  outdoor   \n",
       "7   2023-09-22T12:30:25.352Z                    TUDo_CNI_SCS_5  outdoor   \n",
       "8   2025-01-13T18:09:41.699Z              ELSYS_EMS_PERRET_NEE  outdoor   \n",
       "9   2022-12-13T03:57:14.925Z               MCF88_LW12TERPM_SMH  outdoor   \n",
       "10  2023-07-12T16:59:46.990Z                    EMS_ELSYS_MACI  outdoor   \n",
       "11  2022-06-17T12:25:24.228Z                           Caputh1  outdoor   \n",
       "12  2025-01-11T06:30:56.679Z  andutan's wonder weather station  outdoor   \n",
       "\n",
       "                      model         lastMeasurementAt    longitud    latitud  \n",
       "0   luftdaten_sds011_bme280  2025-01-13T18:14:32.264Z   23.405557  42.636516  \n",
       "1   luftdaten_sds011_bme280  2025-01-11T06:26:40.384Z   23.359771  42.700230  \n",
       "2    luftdaten_sds011_dht22  2024-04-07T18:52:26.648Z    4.510325  52.222357  \n",
       "3   luftdaten_sds011_bme280  2025-01-13T18:07:48.874Z    8.822279  53.076957  \n",
       "4    luftdaten_sds011_dht22  2022-10-13T17:44:14.421Z -122.631289  45.539658  \n",
       "5                    custom  2022-07-26T13:18:20.845Z   30.623199  50.461063  \n",
       "6                    custom  2025-01-13T18:16:13.791Z    5.988284  51.317900  \n",
       "7                    custom  2023-09-22T12:30:25.344Z    7.441287  51.500407  \n",
       "8                    custom  2025-01-13T18:09:41.695Z    5.735416  45.184907  \n",
       "9                    custom  2022-12-13T03:57:14.919Z    5.753862  45.184780  \n",
       "10                   custom  2023-07-12T16:59:46.981Z    5.763326  45.191897  \n",
       "11   luftdaten_sds011_dht11  2022-06-17T12:25:24.222Z   12.984025  52.334908  \n",
       "12                   custom  2025-01-11T06:30:56.091Z    8.253330  50.003549  "
      ]
     },
     "execution_count": 22,
     "metadata": {},
     "output_type": "execute_result"
    }
   ],
   "source": [
    "df_sensebox"
   ]
  },
  {
   "cell_type": "code",
   "execution_count": 23,
   "id": "3d81ae07",
   "metadata": {},
   "outputs": [
    {
     "data": {
      "text/html": [
       "<div>\n",
       "<style scoped>\n",
       "    .dataframe tbody tr th:only-of-type {\n",
       "        vertical-align: middle;\n",
       "    }\n",
       "\n",
       "    .dataframe tbody tr th {\n",
       "        vertical-align: top;\n",
       "    }\n",
       "\n",
       "    .dataframe thead th {\n",
       "        text-align: right;\n",
       "    }\n",
       "</style>\n",
       "<table border=\"1\" class=\"dataframe\">\n",
       "  <thead>\n",
       "    <tr style=\"text-align: right;\">\n",
       "      <th></th>\n",
       "      <th>index</th>\n",
       "      <th>id_sensebox</th>\n",
       "      <th>createdAt</th>\n",
       "      <th>updatedAt</th>\n",
       "      <th>name</th>\n",
       "      <th>exposure</th>\n",
       "      <th>model</th>\n",
       "      <th>lastMeasurementAt</th>\n",
       "      <th>longitud</th>\n",
       "      <th>latitud</th>\n",
       "    </tr>\n",
       "  </thead>\n",
       "  <tbody>\n",
       "    <tr>\n",
       "      <th>0</th>\n",
       "      <td>0</td>\n",
       "      <td>59721243fe1c7400113446fc</td>\n",
       "      <td>2022-03-30T11:25:43.328Z</td>\n",
       "      <td>2025-01-13T18:14:32.268Z</td>\n",
       "      <td>M_Office_1</td>\n",
       "      <td>indoor</td>\n",
       "      <td>luftdaten_sds011_bme280</td>\n",
       "      <td>2025-01-13T18:14:32.264Z</td>\n",
       "      <td>23.405557</td>\n",
       "      <td>42.636516</td>\n",
       "    </tr>\n",
       "    <tr>\n",
       "      <th>1</th>\n",
       "      <td>1</td>\n",
       "      <td>5aa71abe396417001bdfe04a</td>\n",
       "      <td>2022-03-30T11:25:43.506Z</td>\n",
       "      <td>2025-01-11T06:26:40.394Z</td>\n",
       "      <td>2xBME280</td>\n",
       "      <td>indoor</td>\n",
       "      <td>luftdaten_sds011_bme280</td>\n",
       "      <td>2025-01-11T06:26:40.384Z</td>\n",
       "      <td>23.359771</td>\n",
       "      <td>42.700230</td>\n",
       "    </tr>\n",
       "    <tr>\n",
       "      <th>2</th>\n",
       "      <td>2</td>\n",
       "      <td>5cfe042fa1ba9f001afb0480</td>\n",
       "      <td>2022-03-30T11:25:43.734Z</td>\n",
       "      <td>2024-04-07T18:52:26.653Z</td>\n",
       "      <td>ph1m_dust</td>\n",
       "      <td>outdoor</td>\n",
       "      <td>luftdaten_sds011_dht22</td>\n",
       "      <td>2024-04-07T18:52:26.648Z</td>\n",
       "      <td>4.510325</td>\n",
       "      <td>52.222357</td>\n",
       "    </tr>\n",
       "    <tr>\n",
       "      <th>3</th>\n",
       "      <td>3</td>\n",
       "      <td>5d754c46953683001a37a1ce</td>\n",
       "      <td>2022-03-30T11:25:43.763Z</td>\n",
       "      <td>2025-01-13T18:07:48.883Z</td>\n",
       "      <td>B13</td>\n",
       "      <td>outdoor</td>\n",
       "      <td>luftdaten_sds011_bme280</td>\n",
       "      <td>2025-01-13T18:07:48.874Z</td>\n",
       "      <td>8.822279</td>\n",
       "      <td>53.076957</td>\n",
       "    </tr>\n",
       "    <tr>\n",
       "      <th>4</th>\n",
       "      <td>4</td>\n",
       "      <td>5f599d98e26476001c3e821e</td>\n",
       "      <td>2022-03-30T11:25:43.888Z</td>\n",
       "      <td>2022-10-13T17:44:14.425Z</td>\n",
       "      <td>PDX_GrantPark</td>\n",
       "      <td>outdoor</td>\n",
       "      <td>luftdaten_sds011_dht22</td>\n",
       "      <td>2022-10-13T17:44:14.421Z</td>\n",
       "      <td>-122.631289</td>\n",
       "      <td>45.539658</td>\n",
       "    </tr>\n",
       "  </tbody>\n",
       "</table>\n",
       "</div>"
      ],
      "text/plain": [
       "   index               id_sensebox                 createdAt  \\\n",
       "0      0  59721243fe1c7400113446fc  2022-03-30T11:25:43.328Z   \n",
       "1      1  5aa71abe396417001bdfe04a  2022-03-30T11:25:43.506Z   \n",
       "2      2  5cfe042fa1ba9f001afb0480  2022-03-30T11:25:43.734Z   \n",
       "3      3  5d754c46953683001a37a1ce  2022-03-30T11:25:43.763Z   \n",
       "4      4  5f599d98e26476001c3e821e  2022-03-30T11:25:43.888Z   \n",
       "\n",
       "                  updatedAt           name exposure                    model  \\\n",
       "0  2025-01-13T18:14:32.268Z     M_Office_1   indoor  luftdaten_sds011_bme280   \n",
       "1  2025-01-11T06:26:40.394Z       2xBME280   indoor  luftdaten_sds011_bme280   \n",
       "2  2024-04-07T18:52:26.653Z      ph1m_dust  outdoor   luftdaten_sds011_dht22   \n",
       "3  2025-01-13T18:07:48.883Z            B13  outdoor  luftdaten_sds011_bme280   \n",
       "4  2022-10-13T17:44:14.425Z  PDX_GrantPark  outdoor   luftdaten_sds011_dht22   \n",
       "\n",
       "          lastMeasurementAt    longitud    latitud  \n",
       "0  2025-01-13T18:14:32.264Z   23.405557  42.636516  \n",
       "1  2025-01-11T06:26:40.384Z   23.359771  42.700230  \n",
       "2  2024-04-07T18:52:26.648Z    4.510325  52.222357  \n",
       "3  2025-01-13T18:07:48.874Z    8.822279  53.076957  \n",
       "4  2022-10-13T17:44:14.421Z -122.631289  45.539658  "
      ]
     },
     "execution_count": 23,
     "metadata": {},
     "output_type": "execute_result"
    }
   ],
   "source": [
    "df_sensebox.to_sql(\"sensebox\",db, if_exists=\"replace\")\n",
    "pd.read_sql(\"SELECT * FROM sensebox LIMIT 5\", db)"
   ]
  },
  {
   "cell_type": "code",
   "execution_count": 24,
   "id": "2c605634",
   "metadata": {},
   "outputs": [
    {
     "data": {
      "text/html": [
       "<div>\n",
       "<style scoped>\n",
       "    .dataframe tbody tr th:only-of-type {\n",
       "        vertical-align: middle;\n",
       "    }\n",
       "\n",
       "    .dataframe tbody tr th {\n",
       "        vertical-align: top;\n",
       "    }\n",
       "\n",
       "    .dataframe thead th {\n",
       "        text-align: right;\n",
       "    }\n",
       "</style>\n",
       "<table border=\"1\" class=\"dataframe\">\n",
       "  <thead>\n",
       "    <tr style=\"text-align: right;\">\n",
       "      <th></th>\n",
       "      <th>index</th>\n",
       "      <th>title</th>\n",
       "      <th>unit</th>\n",
       "      <th>sensorType</th>\n",
       "      <th>icon</th>\n",
       "      <th>_id</th>\n",
       "      <th>m_value</th>\n",
       "      <th>m_date</th>\n",
       "      <th>id_sensebox</th>\n",
       "    </tr>\n",
       "  </thead>\n",
       "  <tbody>\n",
       "    <tr>\n",
       "      <th>0</th>\n",
       "      <td>0</td>\n",
       "      <td>PM10</td>\n",
       "      <td>µg/m³</td>\n",
       "      <td>SDS011</td>\n",
       "      <td>osem-cloud</td>\n",
       "      <td>59721243fe1c740011344701</td>\n",
       "      <td>4.00</td>\n",
       "      <td>2023-10-03T13:01:16.694Z</td>\n",
       "      <td>59721243fe1c7400113446fc</td>\n",
       "    </tr>\n",
       "    <tr>\n",
       "      <th>1</th>\n",
       "      <td>1</td>\n",
       "      <td>PM2.5</td>\n",
       "      <td>µg/m³</td>\n",
       "      <td>SDS011</td>\n",
       "      <td>osem-cloud</td>\n",
       "      <td>59721243fe1c740011344700</td>\n",
       "      <td>2.23</td>\n",
       "      <td>2023-10-03T13:01:16.694Z</td>\n",
       "      <td>59721243fe1c7400113446fc</td>\n",
       "    </tr>\n",
       "    <tr>\n",
       "      <th>2</th>\n",
       "      <td>2</td>\n",
       "      <td>Temperature</td>\n",
       "      <td>°C</td>\n",
       "      <td>BME280</td>\n",
       "      <td>osem-thermometer</td>\n",
       "      <td>59721243fe1c7400113446ff</td>\n",
       "      <td>23.39</td>\n",
       "      <td>2025-01-13T18:14:32.264Z</td>\n",
       "      <td>59721243fe1c7400113446fc</td>\n",
       "    </tr>\n",
       "    <tr>\n",
       "      <th>3</th>\n",
       "      <td>3</td>\n",
       "      <td>Humidity</td>\n",
       "      <td>%</td>\n",
       "      <td>BME280</td>\n",
       "      <td>osem-humidity</td>\n",
       "      <td>59721243fe1c7400113446fe</td>\n",
       "      <td>29.73</td>\n",
       "      <td>2025-01-13T18:14:32.264Z</td>\n",
       "      <td>59721243fe1c7400113446fc</td>\n",
       "    </tr>\n",
       "    <tr>\n",
       "      <th>4</th>\n",
       "      <td>4</td>\n",
       "      <td>Pressure</td>\n",
       "      <td>Pa</td>\n",
       "      <td>BME280</td>\n",
       "      <td>osem-barometer</td>\n",
       "      <td>59721243fe1c7400113446fd</td>\n",
       "      <td>95091.63</td>\n",
       "      <td>2022-06-01T03:57:35.828Z</td>\n",
       "      <td>59721243fe1c7400113446fc</td>\n",
       "    </tr>\n",
       "  </tbody>\n",
       "</table>\n",
       "</div>"
      ],
      "text/plain": [
       "   index        title   unit sensorType              icon  \\\n",
       "0      0         PM10  µg/m³     SDS011        osem-cloud   \n",
       "1      1        PM2.5  µg/m³     SDS011        osem-cloud   \n",
       "2      2  Temperature     °C     BME280  osem-thermometer   \n",
       "3      3     Humidity      %     BME280     osem-humidity   \n",
       "4      4     Pressure     Pa     BME280    osem-barometer   \n",
       "\n",
       "                        _id   m_value                    m_date  \\\n",
       "0  59721243fe1c740011344701      4.00  2023-10-03T13:01:16.694Z   \n",
       "1  59721243fe1c740011344700      2.23  2023-10-03T13:01:16.694Z   \n",
       "2  59721243fe1c7400113446ff     23.39  2025-01-13T18:14:32.264Z   \n",
       "3  59721243fe1c7400113446fe     29.73  2025-01-13T18:14:32.264Z   \n",
       "4  59721243fe1c7400113446fd  95091.63  2022-06-01T03:57:35.828Z   \n",
       "\n",
       "                id_sensebox  \n",
       "0  59721243fe1c7400113446fc  \n",
       "1  59721243fe1c7400113446fc  \n",
       "2  59721243fe1c7400113446fc  \n",
       "3  59721243fe1c7400113446fc  \n",
       "4  59721243fe1c7400113446fc  "
      ]
     },
     "execution_count": 24,
     "metadata": {},
     "output_type": "execute_result"
    }
   ],
   "source": [
    "df_sensors.to_sql(\"sensors\",db, if_exists=\"replace\")\n",
    "pd.read_sql(\"SELECT * FROM sensors LIMIT 5\", db)"
   ]
  },
  {
   "cell_type": "markdown",
   "id": "d79a8532-5a5b-4e59-a5e2-a002b061c944",
   "metadata": {},
   "source": [
    "c) Answer the following questions (i)-(iv) with SQL queries through `pd.read_sql()`:\n",
    "\n",
    "&emsp;&ensp; (i) Return the column names of each table."
   ]
  },
  {
   "cell_type": "code",
   "execution_count": 25,
   "id": "3f9b1b1d-5cd7-45cf-aac6-6183055fbbad",
   "metadata": {},
   "outputs": [
    {
     "data": {
      "text/plain": [
       "['index',\n",
       " 'id_sensebox',\n",
       " 'createdAt',\n",
       " 'updatedAt',\n",
       " 'name',\n",
       " 'exposure',\n",
       " 'model',\n",
       " 'lastMeasurementAt',\n",
       " 'longitud',\n",
       " 'latitud']"
      ]
     },
     "execution_count": 25,
     "metadata": {},
     "output_type": "execute_result"
    }
   ],
   "source": [
    "# Table senseBox\n",
    "pd.read_sql(\"SELECT * FROM sensebox LIMIT 5\", db).columns.tolist()"
   ]
  },
  {
   "cell_type": "code",
   "execution_count": 26,
   "id": "b24094f3",
   "metadata": {},
   "outputs": [
    {
     "data": {
      "text/plain": [
       "['index',\n",
       " 'title',\n",
       " 'unit',\n",
       " 'sensorType',\n",
       " 'icon',\n",
       " '_id',\n",
       " 'm_value',\n",
       " 'm_date',\n",
       " 'id_sensebox']"
      ]
     },
     "execution_count": 26,
     "metadata": {},
     "output_type": "execute_result"
    }
   ],
   "source": [
    "# Table sensors\n",
    "pd.read_sql(\"SELECT * FROM sensors LIMIT 5\", db).columns.tolist()"
   ]
  },
  {
   "cell_type": "markdown",
   "id": "2dc3a493-680a-4f3e-8fc6-20f61376f300",
   "metadata": {},
   "source": [
    "&emsp;&ensp; (ii) Return the total rows of each table. "
   ]
  },
  {
   "cell_type": "code",
   "execution_count": 27,
   "id": "1cc28f28-d867-4362-ba63-d4ba301a838c",
   "metadata": {},
   "outputs": [
    {
     "data": {
      "text/html": [
       "<div>\n",
       "<style scoped>\n",
       "    .dataframe tbody tr th:only-of-type {\n",
       "        vertical-align: middle;\n",
       "    }\n",
       "\n",
       "    .dataframe tbody tr th {\n",
       "        vertical-align: top;\n",
       "    }\n",
       "\n",
       "    .dataframe thead th {\n",
       "        text-align: right;\n",
       "    }\n",
       "</style>\n",
       "<table border=\"1\" class=\"dataframe\">\n",
       "  <thead>\n",
       "    <tr style=\"text-align: right;\">\n",
       "      <th></th>\n",
       "      <th>sensebox_total_rows</th>\n",
       "    </tr>\n",
       "  </thead>\n",
       "  <tbody>\n",
       "    <tr>\n",
       "      <th>0</th>\n",
       "      <td>13</td>\n",
       "    </tr>\n",
       "  </tbody>\n",
       "</table>\n",
       "</div>"
      ],
      "text/plain": [
       "   sensebox_total_rows\n",
       "0                   13"
      ]
     },
     "execution_count": 27,
     "metadata": {},
     "output_type": "execute_result"
    }
   ],
   "source": [
    "# Table senseBox\n",
    "pd.read_sql(\"SELECT COUNT(*) as sensebox_total_rows FROM sensebox\", db)"
   ]
  },
  {
   "cell_type": "code",
   "execution_count": 28,
   "id": "7dc3f01e",
   "metadata": {},
   "outputs": [
    {
     "data": {
      "text/html": [
       "<div>\n",
       "<style scoped>\n",
       "    .dataframe tbody tr th:only-of-type {\n",
       "        vertical-align: middle;\n",
       "    }\n",
       "\n",
       "    .dataframe tbody tr th {\n",
       "        vertical-align: top;\n",
       "    }\n",
       "\n",
       "    .dataframe thead th {\n",
       "        text-align: right;\n",
       "    }\n",
       "</style>\n",
       "<table border=\"1\" class=\"dataframe\">\n",
       "  <thead>\n",
       "    <tr style=\"text-align: right;\">\n",
       "      <th></th>\n",
       "      <th>sensors_total_rows</th>\n",
       "    </tr>\n",
       "  </thead>\n",
       "  <tbody>\n",
       "    <tr>\n",
       "      <th>0</th>\n",
       "      <td>72</td>\n",
       "    </tr>\n",
       "  </tbody>\n",
       "</table>\n",
       "</div>"
      ],
      "text/plain": [
       "   sensors_total_rows\n",
       "0                  72"
      ]
     },
     "execution_count": 28,
     "metadata": {},
     "output_type": "execute_result"
    }
   ],
   "source": [
    "# Table sensors\n",
    "pd.read_sql(\"SELECT COUNT(*) as sensors_total_rows FROM sensors\", db)"
   ]
  },
  {
   "cell_type": "markdown",
   "id": "bee3796c-8200-45a0-86d0-d317b537dacf",
   "metadata": {},
   "source": [
    "&emsp;&ensp; (iii) Return the first five rows of each table."
   ]
  },
  {
   "cell_type": "code",
   "execution_count": 29,
   "id": "6ccc246d-18c3-4961-a2f5-51a1b5163fd7",
   "metadata": {},
   "outputs": [
    {
     "data": {
      "text/html": [
       "<div>\n",
       "<style scoped>\n",
       "    .dataframe tbody tr th:only-of-type {\n",
       "        vertical-align: middle;\n",
       "    }\n",
       "\n",
       "    .dataframe tbody tr th {\n",
       "        vertical-align: top;\n",
       "    }\n",
       "\n",
       "    .dataframe thead th {\n",
       "        text-align: right;\n",
       "    }\n",
       "</style>\n",
       "<table border=\"1\" class=\"dataframe\">\n",
       "  <thead>\n",
       "    <tr style=\"text-align: right;\">\n",
       "      <th></th>\n",
       "      <th>index</th>\n",
       "      <th>id_sensebox</th>\n",
       "      <th>createdAt</th>\n",
       "      <th>updatedAt</th>\n",
       "      <th>name</th>\n",
       "      <th>exposure</th>\n",
       "      <th>model</th>\n",
       "      <th>lastMeasurementAt</th>\n",
       "      <th>longitud</th>\n",
       "      <th>latitud</th>\n",
       "    </tr>\n",
       "  </thead>\n",
       "  <tbody>\n",
       "    <tr>\n",
       "      <th>0</th>\n",
       "      <td>0</td>\n",
       "      <td>59721243fe1c7400113446fc</td>\n",
       "      <td>2022-03-30T11:25:43.328Z</td>\n",
       "      <td>2025-01-13T18:14:32.268Z</td>\n",
       "      <td>M_Office_1</td>\n",
       "      <td>indoor</td>\n",
       "      <td>luftdaten_sds011_bme280</td>\n",
       "      <td>2025-01-13T18:14:32.264Z</td>\n",
       "      <td>23.405557</td>\n",
       "      <td>42.636516</td>\n",
       "    </tr>\n",
       "    <tr>\n",
       "      <th>1</th>\n",
       "      <td>1</td>\n",
       "      <td>5aa71abe396417001bdfe04a</td>\n",
       "      <td>2022-03-30T11:25:43.506Z</td>\n",
       "      <td>2025-01-11T06:26:40.394Z</td>\n",
       "      <td>2xBME280</td>\n",
       "      <td>indoor</td>\n",
       "      <td>luftdaten_sds011_bme280</td>\n",
       "      <td>2025-01-11T06:26:40.384Z</td>\n",
       "      <td>23.359771</td>\n",
       "      <td>42.700230</td>\n",
       "    </tr>\n",
       "    <tr>\n",
       "      <th>2</th>\n",
       "      <td>2</td>\n",
       "      <td>5cfe042fa1ba9f001afb0480</td>\n",
       "      <td>2022-03-30T11:25:43.734Z</td>\n",
       "      <td>2024-04-07T18:52:26.653Z</td>\n",
       "      <td>ph1m_dust</td>\n",
       "      <td>outdoor</td>\n",
       "      <td>luftdaten_sds011_dht22</td>\n",
       "      <td>2024-04-07T18:52:26.648Z</td>\n",
       "      <td>4.510325</td>\n",
       "      <td>52.222357</td>\n",
       "    </tr>\n",
       "    <tr>\n",
       "      <th>3</th>\n",
       "      <td>3</td>\n",
       "      <td>5d754c46953683001a37a1ce</td>\n",
       "      <td>2022-03-30T11:25:43.763Z</td>\n",
       "      <td>2025-01-13T18:07:48.883Z</td>\n",
       "      <td>B13</td>\n",
       "      <td>outdoor</td>\n",
       "      <td>luftdaten_sds011_bme280</td>\n",
       "      <td>2025-01-13T18:07:48.874Z</td>\n",
       "      <td>8.822279</td>\n",
       "      <td>53.076957</td>\n",
       "    </tr>\n",
       "    <tr>\n",
       "      <th>4</th>\n",
       "      <td>4</td>\n",
       "      <td>5f599d98e26476001c3e821e</td>\n",
       "      <td>2022-03-30T11:25:43.888Z</td>\n",
       "      <td>2022-10-13T17:44:14.425Z</td>\n",
       "      <td>PDX_GrantPark</td>\n",
       "      <td>outdoor</td>\n",
       "      <td>luftdaten_sds011_dht22</td>\n",
       "      <td>2022-10-13T17:44:14.421Z</td>\n",
       "      <td>-122.631289</td>\n",
       "      <td>45.539658</td>\n",
       "    </tr>\n",
       "  </tbody>\n",
       "</table>\n",
       "</div>"
      ],
      "text/plain": [
       "   index               id_sensebox                 createdAt  \\\n",
       "0      0  59721243fe1c7400113446fc  2022-03-30T11:25:43.328Z   \n",
       "1      1  5aa71abe396417001bdfe04a  2022-03-30T11:25:43.506Z   \n",
       "2      2  5cfe042fa1ba9f001afb0480  2022-03-30T11:25:43.734Z   \n",
       "3      3  5d754c46953683001a37a1ce  2022-03-30T11:25:43.763Z   \n",
       "4      4  5f599d98e26476001c3e821e  2022-03-30T11:25:43.888Z   \n",
       "\n",
       "                  updatedAt           name exposure                    model  \\\n",
       "0  2025-01-13T18:14:32.268Z     M_Office_1   indoor  luftdaten_sds011_bme280   \n",
       "1  2025-01-11T06:26:40.394Z       2xBME280   indoor  luftdaten_sds011_bme280   \n",
       "2  2024-04-07T18:52:26.653Z      ph1m_dust  outdoor   luftdaten_sds011_dht22   \n",
       "3  2025-01-13T18:07:48.883Z            B13  outdoor  luftdaten_sds011_bme280   \n",
       "4  2022-10-13T17:44:14.425Z  PDX_GrantPark  outdoor   luftdaten_sds011_dht22   \n",
       "\n",
       "          lastMeasurementAt    longitud    latitud  \n",
       "0  2025-01-13T18:14:32.264Z   23.405557  42.636516  \n",
       "1  2025-01-11T06:26:40.384Z   23.359771  42.700230  \n",
       "2  2024-04-07T18:52:26.648Z    4.510325  52.222357  \n",
       "3  2025-01-13T18:07:48.874Z    8.822279  53.076957  \n",
       "4  2022-10-13T17:44:14.421Z -122.631289  45.539658  "
      ]
     },
     "execution_count": 29,
     "metadata": {},
     "output_type": "execute_result"
    }
   ],
   "source": [
    "# Table senseBox\n",
    "pd.read_sql(\"SELECT * FROM sensebox LIMIT 5;\", db)"
   ]
  },
  {
   "cell_type": "code",
   "execution_count": 30,
   "id": "cafb1e8f",
   "metadata": {},
   "outputs": [
    {
     "data": {
      "text/html": [
       "<div>\n",
       "<style scoped>\n",
       "    .dataframe tbody tr th:only-of-type {\n",
       "        vertical-align: middle;\n",
       "    }\n",
       "\n",
       "    .dataframe tbody tr th {\n",
       "        vertical-align: top;\n",
       "    }\n",
       "\n",
       "    .dataframe thead th {\n",
       "        text-align: right;\n",
       "    }\n",
       "</style>\n",
       "<table border=\"1\" class=\"dataframe\">\n",
       "  <thead>\n",
       "    <tr style=\"text-align: right;\">\n",
       "      <th></th>\n",
       "      <th>index</th>\n",
       "      <th>title</th>\n",
       "      <th>unit</th>\n",
       "      <th>sensorType</th>\n",
       "      <th>icon</th>\n",
       "      <th>_id</th>\n",
       "      <th>m_value</th>\n",
       "      <th>m_date</th>\n",
       "      <th>id_sensebox</th>\n",
       "    </tr>\n",
       "  </thead>\n",
       "  <tbody>\n",
       "    <tr>\n",
       "      <th>0</th>\n",
       "      <td>0</td>\n",
       "      <td>PM10</td>\n",
       "      <td>µg/m³</td>\n",
       "      <td>SDS011</td>\n",
       "      <td>osem-cloud</td>\n",
       "      <td>59721243fe1c740011344701</td>\n",
       "      <td>4.00</td>\n",
       "      <td>2023-10-03T13:01:16.694Z</td>\n",
       "      <td>59721243fe1c7400113446fc</td>\n",
       "    </tr>\n",
       "    <tr>\n",
       "      <th>1</th>\n",
       "      <td>1</td>\n",
       "      <td>PM2.5</td>\n",
       "      <td>µg/m³</td>\n",
       "      <td>SDS011</td>\n",
       "      <td>osem-cloud</td>\n",
       "      <td>59721243fe1c740011344700</td>\n",
       "      <td>2.23</td>\n",
       "      <td>2023-10-03T13:01:16.694Z</td>\n",
       "      <td>59721243fe1c7400113446fc</td>\n",
       "    </tr>\n",
       "    <tr>\n",
       "      <th>2</th>\n",
       "      <td>2</td>\n",
       "      <td>Temperature</td>\n",
       "      <td>°C</td>\n",
       "      <td>BME280</td>\n",
       "      <td>osem-thermometer</td>\n",
       "      <td>59721243fe1c7400113446ff</td>\n",
       "      <td>23.39</td>\n",
       "      <td>2025-01-13T18:14:32.264Z</td>\n",
       "      <td>59721243fe1c7400113446fc</td>\n",
       "    </tr>\n",
       "    <tr>\n",
       "      <th>3</th>\n",
       "      <td>3</td>\n",
       "      <td>Humidity</td>\n",
       "      <td>%</td>\n",
       "      <td>BME280</td>\n",
       "      <td>osem-humidity</td>\n",
       "      <td>59721243fe1c7400113446fe</td>\n",
       "      <td>29.73</td>\n",
       "      <td>2025-01-13T18:14:32.264Z</td>\n",
       "      <td>59721243fe1c7400113446fc</td>\n",
       "    </tr>\n",
       "    <tr>\n",
       "      <th>4</th>\n",
       "      <td>4</td>\n",
       "      <td>Pressure</td>\n",
       "      <td>Pa</td>\n",
       "      <td>BME280</td>\n",
       "      <td>osem-barometer</td>\n",
       "      <td>59721243fe1c7400113446fd</td>\n",
       "      <td>95091.63</td>\n",
       "      <td>2022-06-01T03:57:35.828Z</td>\n",
       "      <td>59721243fe1c7400113446fc</td>\n",
       "    </tr>\n",
       "  </tbody>\n",
       "</table>\n",
       "</div>"
      ],
      "text/plain": [
       "   index        title   unit sensorType              icon  \\\n",
       "0      0         PM10  µg/m³     SDS011        osem-cloud   \n",
       "1      1        PM2.5  µg/m³     SDS011        osem-cloud   \n",
       "2      2  Temperature     °C     BME280  osem-thermometer   \n",
       "3      3     Humidity      %     BME280     osem-humidity   \n",
       "4      4     Pressure     Pa     BME280    osem-barometer   \n",
       "\n",
       "                        _id   m_value                    m_date  \\\n",
       "0  59721243fe1c740011344701      4.00  2023-10-03T13:01:16.694Z   \n",
       "1  59721243fe1c740011344700      2.23  2023-10-03T13:01:16.694Z   \n",
       "2  59721243fe1c7400113446ff     23.39  2025-01-13T18:14:32.264Z   \n",
       "3  59721243fe1c7400113446fe     29.73  2025-01-13T18:14:32.264Z   \n",
       "4  59721243fe1c7400113446fd  95091.63  2022-06-01T03:57:35.828Z   \n",
       "\n",
       "                id_sensebox  \n",
       "0  59721243fe1c7400113446fc  \n",
       "1  59721243fe1c7400113446fc  \n",
       "2  59721243fe1c7400113446fc  \n",
       "3  59721243fe1c7400113446fc  \n",
       "4  59721243fe1c7400113446fc  "
      ]
     },
     "execution_count": 30,
     "metadata": {},
     "output_type": "execute_result"
    }
   ],
   "source": [
    "# Table sensors\n",
    "pd.read_sql(\"SELECT * FROM sensors LIMIT 5\", db)"
   ]
  },
  {
   "cell_type": "markdown",
   "id": "339952a8-1f9a-4afc-8ade-59eeb3a9b7db",
   "metadata": {},
   "source": [
    "&emsp;&ensp; (iv) Demonstrate which of the tables can be joined. Return __only__ the first five rows of the joined tables, "
   ]
  },
  {
   "cell_type": "code",
   "execution_count": 31,
   "id": "9992bd6a-b81d-4e95-91ae-ed289260a000",
   "metadata": {},
   "outputs": [
    {
     "data": {
      "text/html": [
       "<div>\n",
       "<style scoped>\n",
       "    .dataframe tbody tr th:only-of-type {\n",
       "        vertical-align: middle;\n",
       "    }\n",
       "\n",
       "    .dataframe tbody tr th {\n",
       "        vertical-align: top;\n",
       "    }\n",
       "\n",
       "    .dataframe thead th {\n",
       "        text-align: right;\n",
       "    }\n",
       "</style>\n",
       "<table border=\"1\" class=\"dataframe\">\n",
       "  <thead>\n",
       "    <tr style=\"text-align: right;\">\n",
       "      <th></th>\n",
       "      <th>id_sensebox</th>\n",
       "      <th>id_sensebox</th>\n",
       "      <th>_id</th>\n",
       "      <th>sensorType</th>\n",
       "    </tr>\n",
       "  </thead>\n",
       "  <tbody>\n",
       "    <tr>\n",
       "      <th>0</th>\n",
       "      <td>59721243fe1c7400113446fc</td>\n",
       "      <td>59721243fe1c7400113446fc</td>\n",
       "      <td>59721243fe1c740011344701</td>\n",
       "      <td>SDS011</td>\n",
       "    </tr>\n",
       "    <tr>\n",
       "      <th>1</th>\n",
       "      <td>59721243fe1c7400113446fc</td>\n",
       "      <td>59721243fe1c7400113446fc</td>\n",
       "      <td>59721243fe1c740011344700</td>\n",
       "      <td>SDS011</td>\n",
       "    </tr>\n",
       "    <tr>\n",
       "      <th>2</th>\n",
       "      <td>59721243fe1c7400113446fc</td>\n",
       "      <td>59721243fe1c7400113446fc</td>\n",
       "      <td>59721243fe1c7400113446ff</td>\n",
       "      <td>BME280</td>\n",
       "    </tr>\n",
       "    <tr>\n",
       "      <th>3</th>\n",
       "      <td>59721243fe1c7400113446fc</td>\n",
       "      <td>59721243fe1c7400113446fc</td>\n",
       "      <td>59721243fe1c7400113446fe</td>\n",
       "      <td>BME280</td>\n",
       "    </tr>\n",
       "    <tr>\n",
       "      <th>4</th>\n",
       "      <td>59721243fe1c7400113446fc</td>\n",
       "      <td>59721243fe1c7400113446fc</td>\n",
       "      <td>59721243fe1c7400113446fd</td>\n",
       "      <td>BME280</td>\n",
       "    </tr>\n",
       "  </tbody>\n",
       "</table>\n",
       "</div>"
      ],
      "text/plain": [
       "                id_sensebox               id_sensebox  \\\n",
       "0  59721243fe1c7400113446fc  59721243fe1c7400113446fc   \n",
       "1  59721243fe1c7400113446fc  59721243fe1c7400113446fc   \n",
       "2  59721243fe1c7400113446fc  59721243fe1c7400113446fc   \n",
       "3  59721243fe1c7400113446fc  59721243fe1c7400113446fc   \n",
       "4  59721243fe1c7400113446fc  59721243fe1c7400113446fc   \n",
       "\n",
       "                        _id sensorType  \n",
       "0  59721243fe1c740011344701     SDS011  \n",
       "1  59721243fe1c740011344700     SDS011  \n",
       "2  59721243fe1c7400113446ff     BME280  \n",
       "3  59721243fe1c7400113446fe     BME280  \n",
       "4  59721243fe1c7400113446fd     BME280  "
      ]
     },
     "execution_count": 31,
     "metadata": {},
     "output_type": "execute_result"
    }
   ],
   "source": [
    "pd.read_sql(\"SELECT sensors.id_sensebox,sensebox.id_sensebox, _id, sensorType  FROM sensors INNER JOIN sensebox ON sensors.id_sensebox=sensebox.id_sensebox LIMIT 5\", db)"
   ]
  },
  {
   "cell_type": "markdown",
   "id": "fb2542f4",
   "metadata": {},
   "source": [
    "&emsp;&ensp; and also return the total number of rows in the joined tables with a query."
   ]
  },
  {
   "cell_type": "code",
   "execution_count": 32,
   "id": "60d993f3",
   "metadata": {},
   "outputs": [
    {
     "data": {
      "text/html": [
       "<div>\n",
       "<style scoped>\n",
       "    .dataframe tbody tr th:only-of-type {\n",
       "        vertical-align: middle;\n",
       "    }\n",
       "\n",
       "    .dataframe tbody tr th {\n",
       "        vertical-align: top;\n",
       "    }\n",
       "\n",
       "    .dataframe thead th {\n",
       "        text-align: right;\n",
       "    }\n",
       "</style>\n",
       "<table border=\"1\" class=\"dataframe\">\n",
       "  <thead>\n",
       "    <tr style=\"text-align: right;\">\n",
       "      <th></th>\n",
       "      <th>total_rows_joined_sensebox_sensors</th>\n",
       "    </tr>\n",
       "  </thead>\n",
       "  <tbody>\n",
       "    <tr>\n",
       "      <th>0</th>\n",
       "      <td>72</td>\n",
       "    </tr>\n",
       "  </tbody>\n",
       "</table>\n",
       "</div>"
      ],
      "text/plain": [
       "   total_rows_joined_sensebox_sensors\n",
       "0                                  72"
      ]
     },
     "execution_count": 32,
     "metadata": {},
     "output_type": "execute_result"
    }
   ],
   "source": [
    "pd.read_sql(\"SELECT count(*) as total_rows_joined_sensebox_sensors FROM sensors INNER JOIN sensebox ON sensors.id_sensebox=sensebox.id_sensebox\", db)"
   ]
  },
  {
   "cell_type": "markdown",
   "id": "d58fe5db-545d-4be4-a326-3ce67628811d",
   "metadata": {},
   "source": [
    "#### <a id=\"223data\">2.3 Data Analysis</a>\n",
    "\n",
    "_Now query the database with SQL to obtain the data for your main analysis. All subsequent analysis can be done with packages such as `pandas` etc. from here on (no need to use SQL further). Discuss and illustrate your data with suitable packages, e.g. through visualisations, computations in tabular form, quantitative text analysis, statistical models, and/or written text._"
   ]
  },
  {
   "cell_type": "markdown",
   "id": "48bc7252",
   "metadata": {},
   "source": [
    "As we have data related to the senseboxes location, we will visualize the map containing the coordinates. We select a pair of coordinates from the sensebox devices as the center of the map to illustrate the use of the map library."
   ]
  },
  {
   "cell_type": "code",
   "execution_count": 33,
   "id": "015f3ba1",
   "metadata": {},
   "outputs": [],
   "source": [
    "sensebox_coor=pd.read_sql(\"SELECT longitud, latitud FROM sensebox\", db)\n",
    "center_map=(sensebox_coor['latitud'].mean(), sensebox_coor['longitud'].mean())"
   ]
  },
  {
   "cell_type": "markdown",
   "id": "11e05a23",
   "metadata": {},
   "source": [
    "The map is displayed with the `ipyleaflet` library:"
   ]
  },
  {
   "cell_type": "code",
   "execution_count": 34,
   "id": "8ce13338-ebde-419b-b12e-c5d66c818095",
   "metadata": {},
   "outputs": [
    {
     "data": {
      "application/vnd.jupyter.widget-view+json": {
       "model_id": "bf1a70ac7a7e427b83f6e1950aa9d19b",
       "version_major": 2,
       "version_minor": 0
      },
      "text/plain": [
       "Map(center=[48.25808684615386, 1.5391824615384615], controls=(ZoomControl(options=['position', 'zoom_in_text',…"
      ]
     },
     "execution_count": 34,
     "metadata": {},
     "output_type": "execute_result"
    }
   ],
   "source": [
    "from ipyleaflet import Map, basemaps, Marker, MarkerCluster\n",
    "\n",
    "m=Map(center = center_map, zoom = 5, min_zoom = 1, max_zoom = 20, \n",
    "    basemap=basemaps.NASAGIBS.ViirsEarthAtNight2012)\n",
    "\n",
    "m"
   ]
  },
  {
   "cell_type": "markdown",
   "id": "c4d7bda9",
   "metadata": {},
   "source": [
    "We now add the location of each device to the map by using markers and cluster them from a maximun distance of 50km."
   ]
  },
  {
   "cell_type": "code",
   "execution_count": 35,
   "id": "89cecc9e",
   "metadata": {},
   "outputs": [
    {
     "data": {
      "application/vnd.jupyter.widget-view+json": {
       "model_id": "87f97a957cdf460597e6789788439a3c",
       "version_major": 2,
       "version_minor": 0
      },
      "text/plain": [
       "Map(center=[48.25808684615386, 1.5391824615384615], controls=(ZoomControl(options=['position', 'zoom_in_text',…"
      ]
     },
     "execution_count": 35,
     "metadata": {},
     "output_type": "execute_result"
    }
   ],
   "source": [
    "m2=Map(center = center_map, zoom = 3, min_zoom = 3, max_zoom = 7, \n",
    "    basemap=basemaps.Gaode.Satellite)\n",
    "\n",
    "m2.add(\n",
    "    MarkerCluster(\n",
    "        markers=[\n",
    "            Marker(location=(sensebox_coor['latitud'][index], sensebox_coor['longitud'][index]), draggable=False)\n",
    "            for index in sensebox_coor.index\n",
    "        ],\n",
    "        disable_clustering_at_zoom=7,\n",
    "        max_cluster_radius=50,\n",
    "    )\n",
    ")\n",
    "\n",
    "m2"
   ]
  },
  {
   "cell_type": "markdown",
   "id": "2fa72e06",
   "metadata": {},
   "source": [
    "With the organized date, we proceed to answer the following questions:"
   ]
  },
  {
   "cell_type": "code",
   "execution_count": 45,
   "id": "f8745ab2",
   "metadata": {},
   "outputs": [],
   "source": [
    "# Adding libraries for the following analysis\n",
    "import matplotlib.pyplot as plt\n",
    "import seaborn as sns\n",
    "sns.set(rc={'figure.figsize':(20,10)})\n",
    "\n",
    "import numpy as np"
   ]
  },
  {
   "cell_type": "markdown",
   "id": "179a844b",
   "metadata": {},
   "source": [
    "__Which type of sensors are mostly used__ by the sensebox stations:"
   ]
  },
  {
   "cell_type": "code",
   "execution_count": 46,
   "id": "17ce5adc",
   "metadata": {},
   "outputs": [],
   "source": [
    "# Percentage of type of sensor used by the senseboxes\n",
    "data_most_used_sensors=pd.read_sql(\"SELECT sensors.sensorType, count(sensors.sensorType) total_type FROM sensors INNER JOIN sensebox ON sensors.id_sensebox=sensebox.id_sensebox GROUP BY sensors.sensorType ORDER BY total_type ASC\", db)"
   ]
  },
  {
   "cell_type": "code",
   "execution_count": null,
   "id": "e2a45522",
   "metadata": {},
   "outputs": [
    {
     "data": {
      "image/png": "[encoded data removed]",
      "text/plain": [
       "<Figure size 2000x1000 with 1 Axes>"
      ]
     },
     "metadata": {},
     "output_type": "display_data"
    }
   ],
   "source": [
    "labels = data_most_used_sensors['sensorType']\n",
    "values = data_most_used_sensors['total_type']\n",
    "cmap = plt.get_cmap('GnBu')\n",
    "colors = list(cmap(np.linspace(0.1, 0.6, len(values))))\n",
    "\n",
    "# Create bar plot\n",
    "plt.bar(labels, values, color=colors)\n",
    "plt.title('Percentage Usage for Sensor Type')\n",
    "plt.xlabel('Sensor Type')\n",
    "plt.ylabel('Usage Percentage')\n",
    "plt.xticks(rotation=45, ha='right')  \n",
    "plt.tight_layout() \n",
    "plt.show()\n"
   ]
  },
  {
   "cell_type": "markdown",
   "id": "0bdafa40",
   "metadata": {},
   "source": [
    "A more dynamic way to visualize the most popular sensors is by using word clouds:"
   ]
  },
  {
   "cell_type": "code",
   "execution_count": 54,
   "id": "c1753503",
   "metadata": {},
   "outputs": [
    {
     "name": "stderr",
     "output_type": "stream",
     "text": [
      "[nltk_data] Downloading package stopwords to\n",
      "[nltk_data]     C:\\Users\\viole\\AppData\\Roaming\\nltk_data...\n",
      "[nltk_data]   Unzipping corpora\\stopwords.zip.\n"
     ]
    }
   ],
   "source": [
    "import clean_text"
   ]
  },
  {
   "cell_type": "code",
   "execution_count": 57,
   "id": "6347d1fe",
   "metadata": {},
   "outputs": [
    {
     "data": {
      "image/png": "[encoded data removed]",
      "text/plain": [
       "<Figure size 1000x700 with 1 Axes>"
      ]
     },
     "metadata": {},
     "output_type": "display_data"
    }
   ],
   "source": [
    "message = df_sensors[\"sensorType\"]\n",
    "clean_text.plot_word_cloud(input_string=\" \".join(message),\n",
    "                custom_words_to_remove=[\"na\"], color_cloud=\"GnBu_r\")"
   ]
  },
  {
   "cell_type": "markdown",
   "id": "e7992514",
   "metadata": {},
   "source": [
    "__How many sensors do most senseboxs have?__"
   ]
  },
  {
   "cell_type": "code",
   "execution_count": 58,
   "id": "7c6778a1",
   "metadata": {},
   "outputs": [],
   "source": [
    "data_total_sensors=pd.read_sql(\"SELECT sensebox.id_sensebox as id_sensebox, count(sensors.id_sensebox) as total_sensors FROM sensors INNER JOIN sensebox ON sensors.id_sensebox=sensebox.id_sensebox GROUP BY sensors.id_sensebox ORDER BY total_sensors DESC\", db)"
   ]
  },
  {
   "cell_type": "code",
   "execution_count": 59,
   "id": "94354e9f",
   "metadata": {},
   "outputs": [
    {
     "data": {
      "text/html": [
       "<div>\n",
       "<style scoped>\n",
       "    .dataframe tbody tr th:only-of-type {\n",
       "        vertical-align: middle;\n",
       "    }\n",
       "\n",
       "    .dataframe tbody tr th {\n",
       "        vertical-align: top;\n",
       "    }\n",
       "\n",
       "    .dataframe thead th {\n",
       "        text-align: right;\n",
       "    }\n",
       "</style>\n",
       "<table border=\"1\" class=\"dataframe\">\n",
       "  <thead>\n",
       "    <tr style=\"text-align: right;\">\n",
       "      <th></th>\n",
       "      <th>id_sensebox</th>\n",
       "      <th>total_sensors</th>\n",
       "    </tr>\n",
       "  </thead>\n",
       "  <tbody>\n",
       "    <tr>\n",
       "      <th>0</th>\n",
       "      <td>61a223c64a7833001b3fcf09</td>\n",
       "      <td>8</td>\n",
       "    </tr>\n",
       "    <tr>\n",
       "      <th>1</th>\n",
       "      <td>5d754c46953683001a37a1ce</td>\n",
       "      <td>7</td>\n",
       "    </tr>\n",
       "    <tr>\n",
       "      <th>2</th>\n",
       "      <td>59721243fe1c7400113446fc</td>\n",
       "      <td>7</td>\n",
       "    </tr>\n",
       "    <tr>\n",
       "      <th>3</th>\n",
       "      <td>6251b7ead7e732001b3a3315</td>\n",
       "      <td>6</td>\n",
       "    </tr>\n",
       "    <tr>\n",
       "      <th>4</th>\n",
       "      <td>5aa71abe396417001bdfe04a</td>\n",
       "      <td>6</td>\n",
       "    </tr>\n",
       "    <tr>\n",
       "      <th>5</th>\n",
       "      <td>61a49c884a7833001b5eda03</td>\n",
       "      <td>5</td>\n",
       "    </tr>\n",
       "    <tr>\n",
       "      <th>6</th>\n",
       "      <td>61a1dfebd85cc7001b4d04e3</td>\n",
       "      <td>5</td>\n",
       "    </tr>\n",
       "    <tr>\n",
       "      <th>7</th>\n",
       "      <td>6079b79916aef4001b9fb977</td>\n",
       "      <td>5</td>\n",
       "    </tr>\n",
       "    <tr>\n",
       "      <th>8</th>\n",
       "      <td>5fe1f274c31ca0001c930586</td>\n",
       "      <td>5</td>\n",
       "    </tr>\n",
       "    <tr>\n",
       "      <th>9</th>\n",
       "      <td>5f63b16f5189f4001bf880d8</td>\n",
       "      <td>5</td>\n",
       "    </tr>\n",
       "    <tr>\n",
       "      <th>10</th>\n",
       "      <td>5cfe042fa1ba9f001afb0480</td>\n",
       "      <td>5</td>\n",
       "    </tr>\n",
       "    <tr>\n",
       "      <th>11</th>\n",
       "      <td>6210df22e00700001bb05e51</td>\n",
       "      <td>4</td>\n",
       "    </tr>\n",
       "    <tr>\n",
       "      <th>12</th>\n",
       "      <td>5f599d98e26476001c3e821e</td>\n",
       "      <td>4</td>\n",
       "    </tr>\n",
       "  </tbody>\n",
       "</table>\n",
       "</div>"
      ],
      "text/plain": [
       "                 id_sensebox  total_sensors\n",
       "0   61a223c64a7833001b3fcf09              8\n",
       "1   5d754c46953683001a37a1ce              7\n",
       "2   59721243fe1c7400113446fc              7\n",
       "3   6251b7ead7e732001b3a3315              6\n",
       "4   5aa71abe396417001bdfe04a              6\n",
       "5   61a49c884a7833001b5eda03              5\n",
       "6   61a1dfebd85cc7001b4d04e3              5\n",
       "7   6079b79916aef4001b9fb977              5\n",
       "8   5fe1f274c31ca0001c930586              5\n",
       "9   5f63b16f5189f4001bf880d8              5\n",
       "10  5cfe042fa1ba9f001afb0480              5\n",
       "11  6210df22e00700001bb05e51              4\n",
       "12  5f599d98e26476001c3e821e              4"
      ]
     },
     "execution_count": 59,
     "metadata": {},
     "output_type": "execute_result"
    }
   ],
   "source": [
    "data_total_sensors"
   ]
  },
  {
   "cell_type": "code",
   "execution_count": 64,
   "id": "4673a096",
   "metadata": {},
   "outputs": [
    {
     "data": {
      "text/plain": [
       "5.0"
      ]
     },
     "execution_count": 64,
     "metadata": {},
     "output_type": "execute_result"
    }
   ],
   "source": [
    "data_total_sensors['total_sensors'].median()"
   ]
  },
  {
   "cell_type": "markdown",
   "id": "5831358e",
   "metadata": {},
   "source": [
    "Most senseseBox have around __5 sensors__."
   ]
  },
  {
   "cell_type": "markdown",
   "id": "c02f6219",
   "metadata": {},
   "source": [
    "__Which are the 5 sensebox that have most sensors?__"
   ]
  },
  {
   "cell_type": "code",
   "execution_count": 68,
   "id": "2f91f75d",
   "metadata": {},
   "outputs": [],
   "source": [
    "data_plot=pd.read_sql(\"SELECT sensebox.id_sensebox as id_sensebox, count(sensors.id_sensebox) as total_sensors FROM sensors INNER JOIN sensebox ON sensors.id_sensebox=sensebox.id_sensebox GROUP BY sensors.id_sensebox ORDER BY total_sensors DESC LIMIT 5\", db)"
   ]
  },
  {
   "cell_type": "code",
   "execution_count": 69,
   "id": "2d2d756f",
   "metadata": {},
   "outputs": [
    {
     "name": "stdout",
     "output_type": "stream",
     "text": [
      "The sensebox with ID: 61a223c64a7833001b3fcf09 has the most sensors with a total of 8 sensors.\n"
     ]
    }
   ],
   "source": [
    "print(f\"The sensebox with ID: {data_plot['id_sensebox'][0]} has the most sensors with a total of {data_plot['total_sensors'][0]} sensors.\")"
   ]
  },
  {
   "cell_type": "code",
   "execution_count": 72,
   "id": "38d8b90a",
   "metadata": {},
   "outputs": [
    {
     "data": {
      "text/plain": [
       "Text(0.5, 0, 'ID Sensebox')"
      ]
     },
     "execution_count": 72,
     "metadata": {},
     "output_type": "execute_result"
    },
    {
     "data": {
      "image/png": "[encoded data removed]",
      "text/plain": [
       "<Figure size 2000x1000 with 1 Axes>"
      ]
     },
     "metadata": {},
     "output_type": "display_data"
    }
   ],
   "source": [
    "sns.despine(left=True)\n",
    "\n",
    "sns.barplot(data=data_plot, x='id_sensebox',y='total_sensors', palette='crest', hue='id_sensebox')\n",
    "plt.xticks(rotation=90)\n",
    "# Formating plot\n",
    "plt.title('senseBox with the most number of Sensors')\n",
    "plt.ylabel('Number of sensors')\n",
    "plt.xlabel('ID Sensebox')\n"
   ]
  },
  {
   "cell_type": "markdown",
   "id": "7c1e758c",
   "metadata": {},
   "source": [
    "__Which variables reported by the sensebox's sensors for the Temperature phenomenon have a high correlation of occurrying?__"
   ]
  },
  {
   "cell_type": "markdown",
   "id": "0aae0473",
   "metadata": {},
   "source": [
    "The data in the sensors requires that we transpose the data, so we have variables in columns for each measurement value and per sensebox. To do so, we use the function pivot, to keep the senseBox identifier. "
   ]
  },
  {
   "cell_type": "code",
   "execution_count": 73,
   "id": "2f56c872",
   "metadata": {},
   "outputs": [
    {
     "data": {
      "text/plain": [
       "Index(['title', 'unit', 'sensorType', 'icon', '_id', 'm_value', 'm_date',\n",
       "       'id_sensebox'],\n",
       "      dtype='object')"
      ]
     },
     "execution_count": 73,
     "metadata": {},
     "output_type": "execute_result"
    }
   ],
   "source": [
    "df_sensors.columns"
   ]
  },
  {
   "cell_type": "code",
   "execution_count": 75,
   "id": "fb57ab81",
   "metadata": {},
   "outputs": [],
   "source": [
    "df_sensors['m_value'] = pd.to_numeric(df_sensors['m_value'], errors='coerce')"
   ]
  },
  {
   "cell_type": "code",
   "execution_count": 77,
   "id": "82e6dec3",
   "metadata": {},
   "outputs": [
    {
     "data": {
      "text/plain": [
       "0         4.00000\n",
       "1         2.23000\n",
       "2        23.39000\n",
       "3        29.73000\n",
       "4     95091.63000\n",
       "         ...     \n",
       "67       99.90001\n",
       "68     1010.60200\n",
       "69        2.60000\n",
       "70       16.00000\n",
       "71        0.13000\n",
       "Name: m_value, Length: 72, dtype: float64"
      ]
     },
     "execution_count": 77,
     "metadata": {},
     "output_type": "execute_result"
    }
   ],
   "source": [
    "df_sensors['m_value'].fillna(0)  "
   ]
  },
  {
   "cell_type": "code",
   "execution_count": 87,
   "id": "f4abd554",
   "metadata": {},
   "outputs": [],
   "source": [
    "df_sensor_m_data=pd.pivot_table(data=df_sensors, index=['id_sensebox','sensorType','m_date'], columns='title',values='m_value', fill_value=None)"
   ]
  },
  {
   "cell_type": "markdown",
   "id": "709d5da5",
   "metadata": {},
   "source": [
    "Reviewing the output data, it is easier to evidenciate that some variables don't have enough data to be relevant to the analysis. We will reduce them to the ones in which the null values are lower than 90% of the sample to reduce their impact on the data. "
   ]
  },
  {
   "cell_type": "code",
   "execution_count": 89,
   "id": "9ed73a28",
   "metadata": {},
   "outputs": [
    {
     "data": {
      "text/plain": [
       "(42, 11)"
      ]
     },
     "execution_count": 89,
     "metadata": {},
     "output_type": "execute_result"
    }
   ],
   "source": [
    "df_sensor_m_data.shape"
   ]
  },
  {
   "cell_type": "code",
   "execution_count": 88,
   "id": "9e65a35e",
   "metadata": {},
   "outputs": [
    {
     "data": {
      "text/plain": [
       "title\n",
       "Humidity         27\n",
       "PM10             33\n",
       "PM2.5            33\n",
       "Pressure         34\n",
       "Temperature      27\n",
       "battery          40\n",
       "dewpoint         41\n",
       "fCnt             39\n",
       "light            41\n",
       "motion           40\n",
       "radioactivety    41\n",
       "dtype: int64"
      ]
     },
     "execution_count": 88,
     "metadata": {},
     "output_type": "execute_result"
    }
   ],
   "source": [
    "df_sensor_m_data.isna().sum()"
   ]
  },
  {
   "cell_type": "code",
   "execution_count": 90,
   "id": "eae117db",
   "metadata": {},
   "outputs": [],
   "source": [
    "df_sensor_m_data.head()\n",
    "df_sensor_m_data.drop(columns=['light', 'radioactivety','dewpoint','motion','fCnt','battery'], axis=1, inplace=True)"
   ]
  },
  {
   "cell_type": "code",
   "execution_count": 91,
   "id": "b3cfd651",
   "metadata": {},
   "outputs": [
    {
     "data": {
      "text/plain": [
       "Text(0.5, 77.24999999999999, 'Environmental Variable')"
      ]
     },
     "execution_count": 91,
     "metadata": {},
     "output_type": "execute_result"
    },
    {
     "data": {
      "image/png": "[encoded data removed]",
      "text/plain": [
       "<Figure size 2000x1000 with 2 Axes>"
      ]
     },
     "metadata": {},
     "output_type": "display_data"
    }
   ],
   "source": [
    "sns.heatmap(df_sensor_m_data.corr(), cmap='crest', annot=True).set(title='HeatMap environmental variables - senseBox API data')\n",
    "plt.xlabel(\"Environmental Variable\")"
   ]
  },
  {
   "cell_type": "markdown",
   "id": "ac2ec4a0",
   "metadata": {},
   "source": [
    "The heatmap illustrates a high negative correlation between _humidity and temperature_,  low negative correlation between _pressure and temperature_, and a high positive correlation between _PM2.5 and PM10_. Nevertheless, this is also an indication than it is necessary to extract more data per station to elaborate a robust analysis about how enviromental variables are correlated, which will be analysed in [Part B](assignment-part-b.html)."
   ]
  },
  {
   "cell_type": "markdown",
   "id": "74a96629",
   "metadata": {},
   "source": [
    "## References\n",
    "\n",
    "- [openSenseMap - senseBox](https://opensensemap.org/)\n",
    "- [senseBox product overview](https://sensebox.de/de/products.html)\n",
    "- [openSenseMap API](https://docs.opensensemap.org/)"
   ]
  },
  {
   "cell_type": "markdown",
   "id": "6457084a",
   "metadata": {},
   "source": [
    "__Coding references__\n",
    "\n",
    "- [Attribute Error Handling](https://www.geeksforgeeks.org/python-attributeerror/)\n",
    "- [Conditional List Comprehension Stackoverflow](https://stackoverflow.com/questions/4260280/if-else-in-a-list-comprehension)\n",
    "- [Dataframes documentation](https://www.geeksforgeeks.org/)\n",
    "- [ipyleaflet Map Library](https://ipyleaflet.readthedocs.io/en/latest/)\n",
    "- [ipyleaflet Examples](https://github.com/jupyter-widgets/ipyleaflet/tree/master/examples)\n",
    "- [Jupyter Widget Integration](https://ipywidgets.readthedocs.io/en/latest/embedding.html#embedding-jupyter-widgets-in-other-contexts-than-the-notebook)\n",
    "- [Jupyter Warning off](https://jupyterbook.org/en/stable/reference/cli.html?highlight=warning%20off#cmdoption-jupyter-book-build-q)\n",
    "- [Matplotlib Documentation](https://matplotlib.org/stable/index.html)\n",
    "- [Pandas Dataframe documentation](https://sparkbyexamples.com/pandas/)\n",
    "- [Pandas Dataframe Documentation](https://pandas.pydata.org/docs/reference/frame.html)\n",
    "- [Seaborn Documentation](https://seaborn.pydata.org/index.html)"
   ]
  }
 ],
 "metadata": {
  "kernelspec": {
   "display_name": "jupyter",
   "language": "python",
   "name": "python3"
  },
  "language_info": {
   "codemirror_mode": {
    "name": "ipython",
    "version": 3
   },
   "file_extension": ".py",
   "mimetype": "text/x-python",
   "name": "python",
   "nbconvert_exporter": "python",
   "pygments_lexer": "ipython3",
   "version": "3.9.21"
  },
  "widgets": {
   "application/vnd.jupyter.widget-state+json": {
    "state": {
     "066ab125dc69439f9efc4db2838e5486": {
      "model_module": "jupyter-leaflet",
      "model_module_version": "^0.17.0",
      "model_name": "LeafletMarkerModel",
      "state": {
       "_model_module_version": "^0.17.0",
       "_view_module_version": "^0.17.0",
       "draggable": false,
       "location": [
        51.3179,
        5.988284
       ],
       "options": [
        "alt",
        "draggable",
        "keyboard",
        "rise_offset",
        "rise_on_hover",
        "rotation_angle",
        "rotation_origin",
        "title",
        "z_index_offset"
       ]
      }
     },
     "094c84baaab94fe9acfdeba9a4a33fdd": {
      "model_module": "@jupyter-widgets/base",
      "model_module_version": "1.2.0",
      "model_name": "LayoutModel",
      "state": {}
     },
     "17fdac06be24463caa6f960f38561fb6": {
      "model_module": "jupyter-leaflet",
      "model_module_version": "^0.17.0",
      "model_name": "LeafletTileLayerModel",
      "state": {
       "_model_module_version": "^0.17.0",
       "_view_module_version": "^0.17.0",
       "attribution": "&copy; <a href=\"http://www.gaode.com/\">Gaode.com</a>",
       "base": true,
       "max_zoom": 19,
       "min_zoom": 1,
       "name": "Gaode.Satellite",
       "options": [
        "attribution",
        "bounds",
        "detect_retina",
        "max_native_zoom",
        "max_zoom",
        "min_native_zoom",
        "min_zoom",
        "no_wrap",
        "tile_size",
        "tms"
       ],
       "url": "http://webst01.is.autonavi.com/appmaptile?style=6&x={x}&y={y}&z={z}"
      }
     },
     "18e83acff9f847cd83d38f3e1d6731ce": {
      "model_module": "jupyter-leaflet",
      "model_module_version": "^0.17.0",
      "model_name": "LeafletMapModel",
      "state": {
       "_model_module_version": "^0.17.0",
       "_view_module_version": "^0.17.0",
       "bottom": 913,
       "center": [
        47.83285330769232,
        2.3016956923076917
       ],
       "controls": [
        "IPY_MODEL_904216f83cb8448c8e7ea371b666e28a",
        "IPY_MODEL_804096628a974909b1ffbf6551b23597"
       ],
       "default_style": "IPY_MODEL_8d696c8bca894b21a509a8bb2df01ed5",
       "dragging_style": "IPY_MODEL_c1c25a216ee3426880a7aa8ba84a89cc",
       "east": 88.41796875000001,
       "fullscreen": false,
       "interpolation": "bilinear",
       "layers": [
        "IPY_MODEL_17fdac06be24463caa6f960f38561fb6",
        "IPY_MODEL_8d5117ab21ee4872b07a9635aa1f64f9"
       ],
       "layout": "IPY_MODEL_3e0b292150bb4afe9409983458bf0fe6",
       "left": 547,
       "max_zoom": 7,
       "min_zoom": 3,
       "modisdate": "2022-08-09",
       "north": 66.44310650816469,
       "options": [
        "bounce_at_zoom_limits",
        "box_zoom",
        "center",
        "close_popup_on_click",
        "double_click_zoom",
        "dragging",
        "fullscreen",
        "inertia",
        "inertia_deceleration",
        "inertia_max_speed",
        "interpolation",
        "keyboard",
        "keyboard_pan_offset",
        "keyboard_zoom_offset",
        "max_zoom",
        "min_zoom",
        "prefer_canvas",
        "scroll_wheel_zoom",
        "tap",
        "tap_tolerance",
        "touch_zoom",
        "world_copy_jump",
        "zoom",
        "zoom_animation_threshold",
        "zoom_delta",
        "zoom_snap"
       ],
       "prefer_canvas": false,
       "right": 1527,
       "south": 19.145168196205297,
       "style": "IPY_MODEL_46380d30f5b94b939966e8cb8699e653",
       "top": 513,
       "west": -83.84765625000001,
       "window_url": "http://localhost:8888/notebooks/Documents/GitHub/assignment-violetasdev/assignment-part-a.ipynb#",
       "zoom": 3
      }
     },
     "1f72fcd2048c4dd0b9b8d3c9527cc4d7": {
      "model_module": "jupyter-leaflet",
      "model_module_version": "^0.17.0",
      "model_name": "LeafletMapStyleModel",
      "state": {
       "_model_module_version": "^0.17.0"
      }
     },
     "2376bbdc0a2b44298813579f1baa7956": {
      "model_module": "jupyter-leaflet",
      "model_module_version": "^0.17.0",
      "model_name": "LeafletMarkerModel",
      "state": {
       "_model_module_version": "^0.17.0",
       "_view_module_version": "^0.17.0",
       "draggable": false,
       "location": [
        45.184907,
        5.735416
       ],
       "options": [
        "alt",
        "draggable",
        "keyboard",
        "rise_offset",
        "rise_on_hover",
        "rotation_angle",
        "rotation_origin",
        "title",
        "z_index_offset"
       ]
      }
     },
     "2ee03a354473487b8dded3bf4ab4bcc9": {
      "model_module": "jupyter-leaflet",
      "model_module_version": "^0.17.0",
      "model_name": "LeafletMapModel",
      "state": {
       "_model_module_version": "^0.17.0",
       "_view_module_version": "^0.17.0",
       "bottom": 3053,
       "center": [
        47.83285330769232,
        2.3016956923076917
       ],
       "controls": [
        "IPY_MODEL_8fe5ba0c51324141a86d0090a1e41c65",
        "IPY_MODEL_f1b1c71770094ef08349684d47ac1fa1"
       ],
       "default_style": "IPY_MODEL_1f72fcd2048c4dd0b9b8d3c9527cc4d7",
       "dragging_style": "IPY_MODEL_ad824ea80ff44c0ba11aed24fa5a9e7d",
       "east": 23.818359375000004,
       "fullscreen": false,
       "interpolation": "bilinear",
       "layers": [
        "IPY_MODEL_fb0516b9c9d447b784939682ecdd5c0a"
       ],
       "layout": "IPY_MODEL_094c84baaab94fe9acfdeba9a4a33fdd",
       "left": 3658,
       "max_zoom": 20,
       "min_zoom": 1,
       "modisdate": "2022-08-09",
       "north": 53.409531853086435,
       "options": [
        "bounce_at_zoom_limits",
        "box_zoom",
        "center",
        "close_popup_on_click",
        "double_click_zoom",
        "dragging",
        "fullscreen",
        "inertia",
        "inertia_deceleration",
        "inertia_max_speed",
        "interpolation",
        "keyboard",
        "keyboard_pan_offset",
        "keyboard_zoom_offset",
        "max_zoom",
        "min_zoom",
        "prefer_canvas",
        "scroll_wheel_zoom",
        "tap",
        "tap_tolerance",
        "touch_zoom",
        "world_copy_jump",
        "zoom",
        "zoom_animation_threshold",
        "zoom_delta",
        "zoom_snap"
       ],
       "prefer_canvas": false,
       "right": 4638,
       "south": 41.60722821271717,
       "style": "IPY_MODEL_61f717313b3d4f0a98737c1634b89e60",
       "top": 2653,
       "west": -19.248046875000004,
       "window_url": "http://localhost:8888/notebooks/Documents/GitHub/assignment-violetasdev/assignment-part-a.ipynb#",
       "zoom": 5
      }
     },
     "3b3bb821dc2d4596bf31c2aa0e2bd0f7": {
      "model_module": "jupyter-leaflet",
      "model_module_version": "^0.17.0",
      "model_name": "LeafletMarkerModel",
      "state": {
       "_model_module_version": "^0.17.0",
       "_view_module_version": "^0.17.0",
       "draggable": false,
       "location": [
        45.539658,
        -122.631289
       ],
       "options": [
        "alt",
        "draggable",
        "keyboard",
        "rise_offset",
        "rise_on_hover",
        "rotation_angle",
        "rotation_origin",
        "title",
        "z_index_offset"
       ]
      }
     },
     "3e0b292150bb4afe9409983458bf0fe6": {
      "model_module": "@jupyter-widgets/base",
      "model_module_version": "1.2.0",
      "model_name": "LayoutModel",
      "state": {}
     },
     "46380d30f5b94b939966e8cb8699e653": {
      "model_module": "jupyter-leaflet",
      "model_module_version": "^0.17.0",
      "model_name": "LeafletMapStyleModel",
      "state": {
       "_model_module_version": "^0.17.0"
      }
     },
     "4644fdeeacc04f0a8089b175e48f915d": {
      "model_module": "jupyter-leaflet",
      "model_module_version": "^0.17.0",
      "model_name": "LeafletMarkerModel",
      "state": {
       "_model_module_version": "^0.17.0",
       "_view_module_version": "^0.17.0",
       "draggable": false,
       "location": [
        52.222357,
        4.510325
       ],
       "options": [
        "alt",
        "draggable",
        "keyboard",
        "rise_offset",
        "rise_on_hover",
        "rotation_angle",
        "rotation_origin",
        "title",
        "z_index_offset"
       ]
      }
     },
     "580b55992e3a44cd833655bb4ba21afa": {
      "model_module": "jupyter-leaflet",
      "model_module_version": "^0.17.0",
      "model_name": "LeafletMarkerModel",
      "state": {
       "_model_module_version": "^0.17.0",
       "_view_module_version": "^0.17.0",
       "draggable": false,
       "location": [
        45.18478,
        5.753862
       ],
       "options": [
        "alt",
        "draggable",
        "keyboard",
        "rise_offset",
        "rise_on_hover",
        "rotation_angle",
        "rotation_origin",
        "title",
        "z_index_offset"
       ]
      }
     },
     "61f717313b3d4f0a98737c1634b89e60": {
      "model_module": "jupyter-leaflet",
      "model_module_version": "^0.17.0",
      "model_name": "LeafletMapStyleModel",
      "state": {
       "_model_module_version": "^0.17.0"
      }
     },
     "6513ef168a2e4ab89f519428d7caa9a6": {
      "model_module": "jupyter-leaflet",
      "model_module_version": "^0.17.0",
      "model_name": "LeafletMarkerModel",
      "state": {
       "_model_module_version": "^0.17.0",
       "_view_module_version": "^0.17.0",
       "draggable": false,
       "location": [
        51.500407,
        7.441287
       ],
       "options": [
        "alt",
        "draggable",
        "keyboard",
        "rise_offset",
        "rise_on_hover",
        "rotation_angle",
        "rotation_origin",
        "title",
        "z_index_offset"
       ]
      }
     },
     "6d7a4502f9a249e0b577b315a06e1eee": {
      "model_module": "jupyter-leaflet",
      "model_module_version": "^0.17.0",
      "model_name": "LeafletMarkerModel",
      "state": {
       "_model_module_version": "^0.17.0",
       "_view_module_version": "^0.17.0",
       "draggable": false,
       "location": [
        45.191897,
        5.763326
       ],
       "options": [
        "alt",
        "draggable",
        "keyboard",
        "rise_offset",
        "rise_on_hover",
        "rotation_angle",
        "rotation_origin",
        "title",
        "z_index_offset"
       ]
      }
     },
     "75dcc9e1d5c14dc7b0806b219778d89f": {
      "model_module": "jupyter-leaflet",
      "model_module_version": "^0.17.0",
      "model_name": "LeafletMarkerModel",
      "state": {
       "_model_module_version": "^0.17.0",
       "_view_module_version": "^0.17.0",
       "draggable": false,
       "location": [
        42.70023,
        23.359771
       ],
       "options": [
        "alt",
        "draggable",
        "keyboard",
        "rise_offset",
        "rise_on_hover",
        "rotation_angle",
        "rotation_origin",
        "title",
        "z_index_offset"
       ]
      }
     },
     "804096628a974909b1ffbf6551b23597": {
      "model_module": "jupyter-leaflet",
      "model_module_version": "^0.17.0",
      "model_name": "LeafletAttributionControlModel",
      "state": {
       "_model_module_version": "^0.17.0",
       "_view_module_version": "^0.17.0",
       "options": [
        "position",
        "prefix"
       ],
       "position": "bottomright",
       "prefix": "ipyleaflet"
      }
     },
     "88dba05c36e0406aa3bf9ef6e7ebb76f": {
      "model_module": "jupyter-leaflet",
      "model_module_version": "^0.17.0",
      "model_name": "LeafletMarkerModel",
      "state": {
       "_model_module_version": "^0.17.0",
       "_view_module_version": "^0.17.0",
       "draggable": false,
       "location": [
        47.548921,
        18.734951
       ],
       "options": [
        "alt",
        "draggable",
        "keyboard",
        "rise_offset",
        "rise_on_hover",
        "rotation_angle",
        "rotation_origin",
        "title",
        "z_index_offset"
       ]
      }
     },
     "8d5117ab21ee4872b07a9635aa1f64f9": {
      "model_module": "jupyter-leaflet",
      "model_module_version": "^0.17.0",
      "model_name": "LeafletMarkerClusterModel",
      "state": {
       "_model_module_version": "^0.17.0",
       "_view_module_version": "^0.17.0",
       "disable_clustering_at_zoom": 7,
       "markers": [
        "IPY_MODEL_904170961ca345c78444e5e0c3515f93",
        "IPY_MODEL_75dcc9e1d5c14dc7b0806b219778d89f",
        "IPY_MODEL_4644fdeeacc04f0a8089b175e48f915d",
        "IPY_MODEL_3b3bb821dc2d4596bf31c2aa0e2bd0f7",
        "IPY_MODEL_9b13146294cc4b4ab58c0afef17284e1",
        "IPY_MODEL_066ab125dc69439f9efc4db2838e5486",
        "IPY_MODEL_6513ef168a2e4ab89f519428d7caa9a6",
        "IPY_MODEL_88dba05c36e0406aa3bf9ef6e7ebb76f",
        "IPY_MODEL_2376bbdc0a2b44298813579f1baa7956",
        "IPY_MODEL_580b55992e3a44cd833655bb4ba21afa",
        "IPY_MODEL_6d7a4502f9a249e0b577b315a06e1eee",
        "IPY_MODEL_c2875f27f2ea471cbb5df449b61c873a",
        "IPY_MODEL_b3913dde9a8d420e91f6a609d92fceff"
       ],
       "max_cluster_radius": 50,
       "options": [
        "disable_clustering_at_zoom",
        "max_cluster_radius"
       ]
      }
     },
     "8d696c8bca894b21a509a8bb2df01ed5": {
      "model_module": "jupyter-leaflet",
      "model_module_version": "^0.17.0",
      "model_name": "LeafletMapStyleModel",
      "state": {
       "_model_module_version": "^0.17.0"
      }
     },
     "8fe5ba0c51324141a86d0090a1e41c65": {
      "model_module": "jupyter-leaflet",
      "model_module_version": "^0.17.0",
      "model_name": "LeafletZoomControlModel",
      "state": {
       "_model_module_version": "^0.17.0",
       "_view_module_version": "^0.17.0",
       "options": [
        "position",
        "zoom_in_text",
        "zoom_in_title",
        "zoom_out_text",
        "zoom_out_title"
       ]
      }
     },
     "904170961ca345c78444e5e0c3515f93": {
      "model_module": "jupyter-leaflet",
      "model_module_version": "^0.17.0",
      "model_name": "LeafletMarkerModel",
      "state": {
       "_model_module_version": "^0.17.0",
       "_view_module_version": "^0.17.0",
       "draggable": false,
       "location": [
        42.636516,
        23.405557
       ],
       "options": [
        "alt",
        "draggable",
        "keyboard",
        "rise_offset",
        "rise_on_hover",
        "rotation_angle",
        "rotation_origin",
        "title",
        "z_index_offset"
       ]
      }
     },
     "904216f83cb8448c8e7ea371b666e28a": {
      "model_module": "jupyter-leaflet",
      "model_module_version": "^0.17.0",
      "model_name": "LeafletZoomControlModel",
      "state": {
       "_model_module_version": "^0.17.0",
       "_view_module_version": "^0.17.0",
       "options": [
        "position",
        "zoom_in_text",
        "zoom_in_title",
        "zoom_out_text",
        "zoom_out_title"
       ]
      }
     },
     "9b13146294cc4b4ab58c0afef17284e1": {
      "model_module": "jupyter-leaflet",
      "model_module_version": "^0.17.0",
      "model_name": "LeafletMarkerModel",
      "state": {
       "_model_module_version": "^0.17.0",
       "_view_module_version": "^0.17.0",
       "draggable": false,
       "location": [
        50.461063,
        30.623199
       ],
       "options": [
        "alt",
        "draggable",
        "keyboard",
        "rise_offset",
        "rise_on_hover",
        "rotation_angle",
        "rotation_origin",
        "title",
        "z_index_offset"
       ]
      }
     },
     "ad824ea80ff44c0ba11aed24fa5a9e7d": {
      "model_module": "jupyter-leaflet",
      "model_module_version": "^0.17.0",
      "model_name": "LeafletMapStyleModel",
      "state": {
       "_model_module_version": "^0.17.0",
       "cursor": "move"
      }
     },
     "b3913dde9a8d420e91f6a609d92fceff": {
      "model_module": "jupyter-leaflet",
      "model_module_version": "^0.17.0",
      "model_name": "LeafletMarkerModel",
      "state": {
       "_model_module_version": "^0.17.0",
       "_view_module_version": "^0.17.0",
       "draggable": false,
       "location": [
        50.003549,
        8.25333
       ],
       "options": [
        "alt",
        "draggable",
        "keyboard",
        "rise_offset",
        "rise_on_hover",
        "rotation_angle",
        "rotation_origin",
        "title",
        "z_index_offset"
       ]
      }
     },
     "c1c25a216ee3426880a7aa8ba84a89cc": {
      "model_module": "jupyter-leaflet",
      "model_module_version": "^0.17.0",
      "model_name": "LeafletMapStyleModel",
      "state": {
       "_model_module_version": "^0.17.0",
       "cursor": "move"
      }
     },
     "c2875f27f2ea471cbb5df449b61c873a": {
      "model_module": "jupyter-leaflet",
      "model_module_version": "^0.17.0",
      "model_name": "LeafletMarkerModel",
      "state": {
       "_model_module_version": "^0.17.0",
       "_view_module_version": "^0.17.0",
       "draggable": false,
       "location": [
        52.334908,
        12.984025
       ],
       "options": [
        "alt",
        "draggable",
        "keyboard",
        "rise_offset",
        "rise_on_hover",
        "rotation_angle",
        "rotation_origin",
        "title",
        "z_index_offset"
       ]
      }
     },
     "f1b1c71770094ef08349684d47ac1fa1": {
      "model_module": "jupyter-leaflet",
      "model_module_version": "^0.17.0",
      "model_name": "LeafletAttributionControlModel",
      "state": {
       "_model_module_version": "^0.17.0",
       "_view_module_version": "^0.17.0",
       "options": [
        "position",
        "prefix"
       ],
       "position": "bottomright",
       "prefix": "ipyleaflet"
      }
     },
     "fb0516b9c9d447b784939682ecdd5c0a": {
      "model_module": "jupyter-leaflet",
      "model_module_version": "^0.17.0",
      "model_name": "LeafletTileLayerModel",
      "state": {
       "_model_module_version": "^0.17.0",
       "_view_module_version": "^0.17.0",
       "attribution": "Imagery provided by services from the Global Imagery Browse Services (GIBS), operated by the NASA/GSFC/Earth Science Data and Information System (<a href=\"https://earthdata.nasa.gov\">ESDIS</a>) with funding provided by NASA/HQ.",
       "base": true,
       "max_zoom": 8,
       "min_zoom": 1,
       "name": "NASAGIBS.ViirsEarthAtNight2012",
       "options": [
        "attribution",
        "bounds",
        "detect_retina",
        "max_native_zoom",
        "max_zoom",
        "min_native_zoom",
        "min_zoom",
        "no_wrap",
        "tile_size",
        "tms"
       ],
       "url": "https://map1.vis.earthdata.nasa.gov/wmts-webmerc/VIIRS_CityLights_2012/default/2022-08-09/GoogleMapsCompatible_Level8/{z}/{y}/{x}.jpg"
      }
     }
    },
    "version_major": 2,
    "version_minor": 0
   }
  }
 },
 "nbformat": 4,
 "nbformat_minor": 5
}
